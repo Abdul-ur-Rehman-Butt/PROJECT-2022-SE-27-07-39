{
  "metadata": {
    "kernelspec": {
      "language": "python",
      "display_name": "Python 3",
      "name": "python3"
    },
    "language_info": {
      "name": "python",
      "version": "3.10.12",
      "mimetype": "text/x-python",
      "codemirror_mode": {
        "name": "ipython",
        "version": 3
      },
      "pygments_lexer": "ipython3",
      "nbconvert_exporter": "python",
      "file_extension": ".py"
    },
    "kaggle": {
      "accelerator": "none",
      "dataSources": [
        {
          "sourceId": 70942,
          "databundleVersionId": 10381525,
          "isSourceIdPinned": false,
          "sourceType": "competition"
        }
      ],
      "dockerImageVersionId": 30918,
      "isInternetEnabled": true,
      "language": "python",
      "sourceType": "notebook",
      "isGpuEnabled": false
    },
    "colab": {
      "provenance": [],
      "include_colab_link": true
    }
  },
  "nbformat_minor": 0,
  "nbformat": 4,
  "cells": [
    {
      "cell_type": "markdown",
      "metadata": {
        "id": "view-in-github",
        "colab_type": "text"
      },
      "source": [
        "<a href=\"https://colab.research.google.com/github/Abdul-ur-Rehman-Butt/PROJECT-2022-SE-27-07-39/blob/main/Training_model.ipynb\" target=\"_parent\"><img src=\"https://colab.research.google.com/assets/colab-badge.svg\" alt=\"Open In Colab\"/></a>"
      ]
    },
    {
      "cell_type": "code",
      "source": [
        "import os\n",
        "for dirname, _, filenames in os.walk('/kaggle/input'):\n",
        "    for filename in filenames:\n",
        "        print(os.path.join(dirname,filename))"
      ],
      "metadata": {
        "trusted": true,
        "execution": {
          "iopub.status.busy": "2025-02-24T07:25:20.314079Z",
          "iopub.execute_input": "2025-02-24T07:25:20.314434Z",
          "iopub.status.idle": "2025-02-24T07:25:20.324363Z",
          "shell.execute_reply.started": "2025-02-24T07:25:20.314403Z",
          "shell.execute_reply": "2025-02-24T07:25:20.323328Z"
        },
        "id": "q4odFPouyzpC"
      },
      "outputs": [],
      "execution_count": null
    },
    {
      "cell_type": "code",
      "source": [
        "\n",
        "\n",
        "import numpy as np, pandas as pd\n",
        "import sys\n",
        "# sys.path.append(\"/path/to/directory/containing/metric.py\")\n",
        "import matplotlib.pyplot as plt\n",
        "pd.set_option('display.max_columns', 500)\n",
        "pd.set_option('display.max_rows', 500)\n",
        "\n",
        "test = pd.read_csv(\"/content/test.csv\")\n",
        "print(\"Test shape:\", test.shape )\n",
        "\n",
        "train = pd.read_csv(\"/content/train.csv\")\n",
        "print(\"Train shape:\",train.shape)\n",
        "train.head()"
      ],
      "metadata": {
        "trusted": true,
        "execution": {
          "iopub.status.busy": "2025-02-24T07:25:21.038966Z",
          "iopub.execute_input": "2025-02-24T07:25:21.039308Z",
          "iopub.status.idle": "2025-02-24T07:25:21.554403Z",
          "shell.execute_reply.started": "2025-02-24T07:25:21.039272Z",
          "shell.execute_reply": "2025-02-24T07:25:21.553177Z"
        },
        "colab": {
          "base_uri": "https://localhost:8080/",
          "height": 452
        },
        "id": "GXKgJ8KtyzpE",
        "outputId": "a681fe18-2b82-420f-f157-b46737ef414b"
      },
      "outputs": [
        {
          "output_type": "stream",
          "name": "stdout",
          "text": [
            "Test shape: (3, 58)\n",
            "Train shape: (28800, 60)\n"
          ]
        },
        {
          "output_type": "execute_result",
          "data": {
            "text/plain": [
              "   ID                       dri_score psych_disturb    cyto_score diabetes  \\\n",
              "0   0  N/A - non-malignant indication            No           NaN       No   \n",
              "1   1                    Intermediate            No  Intermediate       No   \n",
              "2   2  N/A - non-malignant indication            No           NaN       No   \n",
              "3   3                            High            No  Intermediate       No   \n",
              "4   4                            High            No           NaN       No   \n",
              "\n",
              "   hla_match_c_high  hla_high_res_8          tbi_status arrhythmia  \\\n",
              "0               NaN             NaN              No TBI         No   \n",
              "1               2.0             8.0  TBI +- Other, >cGy         No   \n",
              "2               2.0             8.0              No TBI         No   \n",
              "3               2.0             8.0              No TBI         No   \n",
              "4               2.0             8.0              No TBI         No   \n",
              "\n",
              "   hla_low_res_6        graft_type vent_hist renal_issue pulm_severe  \\\n",
              "0            6.0       Bone marrow        No          No          No   \n",
              "1            6.0  Peripheral blood        No          No          No   \n",
              "2            6.0       Bone marrow        No          No          No   \n",
              "3            6.0       Bone marrow        No          No          No   \n",
              "4            6.0  Peripheral blood        No          No          No   \n",
              "\n",
              "  prim_disease_hct  hla_high_res_6 cmv_status  hla_high_res_10  \\\n",
              "0              IEA             6.0        +/+              NaN   \n",
              "1              AML             6.0        +/+             10.0   \n",
              "2              HIS             6.0        +/+             10.0   \n",
              "3              ALL             6.0        +/+             10.0   \n",
              "4              MPN             6.0        +/+             10.0   \n",
              "\n",
              "   hla_match_dqb1_high tce_imm_match  hla_nmdp_6  hla_match_c_low rituximab  \\\n",
              "0                  2.0           NaN         6.0              2.0        No   \n",
              "1                  2.0           P/P         6.0              2.0        No   \n",
              "2                  2.0           P/P         6.0              2.0        No   \n",
              "3                  2.0           P/P         6.0              2.0        No   \n",
              "4                  2.0           NaN         5.0              2.0        No   \n",
              "\n",
              "   hla_match_drb1_low  hla_match_dqb1_low prod_type cyto_score_detail  \\\n",
              "0                 2.0                 2.0        BM               NaN   \n",
              "1                 2.0                 2.0        PB      Intermediate   \n",
              "2                 2.0                 2.0        BM               NaN   \n",
              "3                 2.0                 2.0        BM      Intermediate   \n",
              "4                 2.0                 2.0        PB               NaN   \n",
              "\n",
              "  conditioning_intensity               ethnicity  year_hct obesity   mrd_hct  \\\n",
              "0                    NaN  Not Hispanic or Latino      2016      No       NaN   \n",
              "1                    MAC  Not Hispanic or Latino      2008      No  Positive   \n",
              "2                    NaN  Not Hispanic or Latino      2019      No       NaN   \n",
              "3                    MAC  Not Hispanic or Latino      2009      No  Positive   \n",
              "4                    MAC      Hispanic or Latino      2018      No       NaN   \n",
              "\n",
              "  in_vivo_tcd   tce_match  hla_match_a_high hepatic_severe  donor_age  \\\n",
              "0         Yes         NaN               2.0             No        NaN   \n",
              "1          No  Permissive               2.0             No      72.29   \n",
              "2         Yes         NaN               2.0             No        NaN   \n",
              "3          No  Permissive               2.0             No      29.23   \n",
              "4         Yes         NaN               2.0             No      56.81   \n",
              "\n",
              "  prior_tumor  hla_match_b_low peptic_ulcer  age_at_hct  hla_match_a_low  \\\n",
              "0          No              2.0           No       9.942              2.0   \n",
              "1          No              2.0           No      43.705              2.0   \n",
              "2          No              2.0           No      33.997              2.0   \n",
              "3          No              2.0           No      43.245              2.0   \n",
              "4          No              2.0           No      29.740              2.0   \n",
              "\n",
              "               gvhd_proph rheum_issue sex_match  hla_match_b_high  \\\n",
              "0                 FKalone          No       M-F               2.0   \n",
              "1  Other GVHD Prophylaxis          No       F-F               2.0   \n",
              "2  Cyclophosphamide alone          No       F-M               2.0   \n",
              "3       FK+ MMF +- others          No       M-M               2.0   \n",
              "4     TDEPLETION +- other          No       M-F               2.0   \n",
              "\n",
              "                         race_group  comorbidity_score  karnofsky_score  \\\n",
              "0                More than one race                0.0             90.0   \n",
              "1                             Asian                3.0             90.0   \n",
              "2                More than one race                0.0             90.0   \n",
              "3                             White                0.0             90.0   \n",
              "4  American Indian or Alaska Native                1.0             90.0   \n",
              "\n",
              "  hepatic_mild          tce_div_match donor_related      melphalan_dose  \\\n",
              "0           No                    NaN     Unrelated  N/A, Mel not given   \n",
              "1           No  Permissive mismatched       Related  N/A, Mel not given   \n",
              "2           No  Permissive mismatched       Related  N/A, Mel not given   \n",
              "3          Yes  Permissive mismatched     Unrelated  N/A, Mel not given   \n",
              "4           No  Permissive mismatched       Related                 MEL   \n",
              "\n",
              "   hla_low_res_8 cardiac  hla_match_drb1_high pulm_moderate  hla_low_res_10  \\\n",
              "0            8.0      No                  2.0            No            10.0   \n",
              "1            8.0      No                  2.0           Yes            10.0   \n",
              "2            8.0      No                  2.0            No            10.0   \n",
              "3            8.0      No                  2.0            No            10.0   \n",
              "4            8.0      No                  2.0            No            10.0   \n",
              "\n",
              "   efs  efs_time  \n",
              "0  0.0    42.356  \n",
              "1  1.0     4.672  \n",
              "2  0.0    19.793  \n",
              "3  0.0   102.349  \n",
              "4  0.0    16.223  "
            ],
            "text/html": [
              "\n",
              "  <div id=\"df-9097c8d5-87fe-4870-93c4-4128f241d197\" class=\"colab-df-container\">\n",
              "    <div>\n",
              "<style scoped>\n",
              "    .dataframe tbody tr th:only-of-type {\n",
              "        vertical-align: middle;\n",
              "    }\n",
              "\n",
              "    .dataframe tbody tr th {\n",
              "        vertical-align: top;\n",
              "    }\n",
              "\n",
              "    .dataframe thead th {\n",
              "        text-align: right;\n",
              "    }\n",
              "</style>\n",
              "<table border=\"1\" class=\"dataframe\">\n",
              "  <thead>\n",
              "    <tr style=\"text-align: right;\">\n",
              "      <th></th>\n",
              "      <th>ID</th>\n",
              "      <th>dri_score</th>\n",
              "      <th>psych_disturb</th>\n",
              "      <th>cyto_score</th>\n",
              "      <th>diabetes</th>\n",
              "      <th>hla_match_c_high</th>\n",
              "      <th>hla_high_res_8</th>\n",
              "      <th>tbi_status</th>\n",
              "      <th>arrhythmia</th>\n",
              "      <th>hla_low_res_6</th>\n",
              "      <th>graft_type</th>\n",
              "      <th>vent_hist</th>\n",
              "      <th>renal_issue</th>\n",
              "      <th>pulm_severe</th>\n",
              "      <th>prim_disease_hct</th>\n",
              "      <th>hla_high_res_6</th>\n",
              "      <th>cmv_status</th>\n",
              "      <th>hla_high_res_10</th>\n",
              "      <th>hla_match_dqb1_high</th>\n",
              "      <th>tce_imm_match</th>\n",
              "      <th>hla_nmdp_6</th>\n",
              "      <th>hla_match_c_low</th>\n",
              "      <th>rituximab</th>\n",
              "      <th>hla_match_drb1_low</th>\n",
              "      <th>hla_match_dqb1_low</th>\n",
              "      <th>prod_type</th>\n",
              "      <th>cyto_score_detail</th>\n",
              "      <th>conditioning_intensity</th>\n",
              "      <th>ethnicity</th>\n",
              "      <th>year_hct</th>\n",
              "      <th>obesity</th>\n",
              "      <th>mrd_hct</th>\n",
              "      <th>in_vivo_tcd</th>\n",
              "      <th>tce_match</th>\n",
              "      <th>hla_match_a_high</th>\n",
              "      <th>hepatic_severe</th>\n",
              "      <th>donor_age</th>\n",
              "      <th>prior_tumor</th>\n",
              "      <th>hla_match_b_low</th>\n",
              "      <th>peptic_ulcer</th>\n",
              "      <th>age_at_hct</th>\n",
              "      <th>hla_match_a_low</th>\n",
              "      <th>gvhd_proph</th>\n",
              "      <th>rheum_issue</th>\n",
              "      <th>sex_match</th>\n",
              "      <th>hla_match_b_high</th>\n",
              "      <th>race_group</th>\n",
              "      <th>comorbidity_score</th>\n",
              "      <th>karnofsky_score</th>\n",
              "      <th>hepatic_mild</th>\n",
              "      <th>tce_div_match</th>\n",
              "      <th>donor_related</th>\n",
              "      <th>melphalan_dose</th>\n",
              "      <th>hla_low_res_8</th>\n",
              "      <th>cardiac</th>\n",
              "      <th>hla_match_drb1_high</th>\n",
              "      <th>pulm_moderate</th>\n",
              "      <th>hla_low_res_10</th>\n",
              "      <th>efs</th>\n",
              "      <th>efs_time</th>\n",
              "    </tr>\n",
              "  </thead>\n",
              "  <tbody>\n",
              "    <tr>\n",
              "      <th>0</th>\n",
              "      <td>0</td>\n",
              "      <td>N/A - non-malignant indication</td>\n",
              "      <td>No</td>\n",
              "      <td>NaN</td>\n",
              "      <td>No</td>\n",
              "      <td>NaN</td>\n",
              "      <td>NaN</td>\n",
              "      <td>No TBI</td>\n",
              "      <td>No</td>\n",
              "      <td>6.0</td>\n",
              "      <td>Bone marrow</td>\n",
              "      <td>No</td>\n",
              "      <td>No</td>\n",
              "      <td>No</td>\n",
              "      <td>IEA</td>\n",
              "      <td>6.0</td>\n",
              "      <td>+/+</td>\n",
              "      <td>NaN</td>\n",
              "      <td>2.0</td>\n",
              "      <td>NaN</td>\n",
              "      <td>6.0</td>\n",
              "      <td>2.0</td>\n",
              "      <td>No</td>\n",
              "      <td>2.0</td>\n",
              "      <td>2.0</td>\n",
              "      <td>BM</td>\n",
              "      <td>NaN</td>\n",
              "      <td>NaN</td>\n",
              "      <td>Not Hispanic or Latino</td>\n",
              "      <td>2016</td>\n",
              "      <td>No</td>\n",
              "      <td>NaN</td>\n",
              "      <td>Yes</td>\n",
              "      <td>NaN</td>\n",
              "      <td>2.0</td>\n",
              "      <td>No</td>\n",
              "      <td>NaN</td>\n",
              "      <td>No</td>\n",
              "      <td>2.0</td>\n",
              "      <td>No</td>\n",
              "      <td>9.942</td>\n",
              "      <td>2.0</td>\n",
              "      <td>FKalone</td>\n",
              "      <td>No</td>\n",
              "      <td>M-F</td>\n",
              "      <td>2.0</td>\n",
              "      <td>More than one race</td>\n",
              "      <td>0.0</td>\n",
              "      <td>90.0</td>\n",
              "      <td>No</td>\n",
              "      <td>NaN</td>\n",
              "      <td>Unrelated</td>\n",
              "      <td>N/A, Mel not given</td>\n",
              "      <td>8.0</td>\n",
              "      <td>No</td>\n",
              "      <td>2.0</td>\n",
              "      <td>No</td>\n",
              "      <td>10.0</td>\n",
              "      <td>0.0</td>\n",
              "      <td>42.356</td>\n",
              "    </tr>\n",
              "    <tr>\n",
              "      <th>1</th>\n",
              "      <td>1</td>\n",
              "      <td>Intermediate</td>\n",
              "      <td>No</td>\n",
              "      <td>Intermediate</td>\n",
              "      <td>No</td>\n",
              "      <td>2.0</td>\n",
              "      <td>8.0</td>\n",
              "      <td>TBI +- Other, &gt;cGy</td>\n",
              "      <td>No</td>\n",
              "      <td>6.0</td>\n",
              "      <td>Peripheral blood</td>\n",
              "      <td>No</td>\n",
              "      <td>No</td>\n",
              "      <td>No</td>\n",
              "      <td>AML</td>\n",
              "      <td>6.0</td>\n",
              "      <td>+/+</td>\n",
              "      <td>10.0</td>\n",
              "      <td>2.0</td>\n",
              "      <td>P/P</td>\n",
              "      <td>6.0</td>\n",
              "      <td>2.0</td>\n",
              "      <td>No</td>\n",
              "      <td>2.0</td>\n",
              "      <td>2.0</td>\n",
              "      <td>PB</td>\n",
              "      <td>Intermediate</td>\n",
              "      <td>MAC</td>\n",
              "      <td>Not Hispanic or Latino</td>\n",
              "      <td>2008</td>\n",
              "      <td>No</td>\n",
              "      <td>Positive</td>\n",
              "      <td>No</td>\n",
              "      <td>Permissive</td>\n",
              "      <td>2.0</td>\n",
              "      <td>No</td>\n",
              "      <td>72.29</td>\n",
              "      <td>No</td>\n",
              "      <td>2.0</td>\n",
              "      <td>No</td>\n",
              "      <td>43.705</td>\n",
              "      <td>2.0</td>\n",
              "      <td>Other GVHD Prophylaxis</td>\n",
              "      <td>No</td>\n",
              "      <td>F-F</td>\n",
              "      <td>2.0</td>\n",
              "      <td>Asian</td>\n",
              "      <td>3.0</td>\n",
              "      <td>90.0</td>\n",
              "      <td>No</td>\n",
              "      <td>Permissive mismatched</td>\n",
              "      <td>Related</td>\n",
              "      <td>N/A, Mel not given</td>\n",
              "      <td>8.0</td>\n",
              "      <td>No</td>\n",
              "      <td>2.0</td>\n",
              "      <td>Yes</td>\n",
              "      <td>10.0</td>\n",
              "      <td>1.0</td>\n",
              "      <td>4.672</td>\n",
              "    </tr>\n",
              "    <tr>\n",
              "      <th>2</th>\n",
              "      <td>2</td>\n",
              "      <td>N/A - non-malignant indication</td>\n",
              "      <td>No</td>\n",
              "      <td>NaN</td>\n",
              "      <td>No</td>\n",
              "      <td>2.0</td>\n",
              "      <td>8.0</td>\n",
              "      <td>No TBI</td>\n",
              "      <td>No</td>\n",
              "      <td>6.0</td>\n",
              "      <td>Bone marrow</td>\n",
              "      <td>No</td>\n",
              "      <td>No</td>\n",
              "      <td>No</td>\n",
              "      <td>HIS</td>\n",
              "      <td>6.0</td>\n",
              "      <td>+/+</td>\n",
              "      <td>10.0</td>\n",
              "      <td>2.0</td>\n",
              "      <td>P/P</td>\n",
              "      <td>6.0</td>\n",
              "      <td>2.0</td>\n",
              "      <td>No</td>\n",
              "      <td>2.0</td>\n",
              "      <td>2.0</td>\n",
              "      <td>BM</td>\n",
              "      <td>NaN</td>\n",
              "      <td>NaN</td>\n",
              "      <td>Not Hispanic or Latino</td>\n",
              "      <td>2019</td>\n",
              "      <td>No</td>\n",
              "      <td>NaN</td>\n",
              "      <td>Yes</td>\n",
              "      <td>NaN</td>\n",
              "      <td>2.0</td>\n",
              "      <td>No</td>\n",
              "      <td>NaN</td>\n",
              "      <td>No</td>\n",
              "      <td>2.0</td>\n",
              "      <td>No</td>\n",
              "      <td>33.997</td>\n",
              "      <td>2.0</td>\n",
              "      <td>Cyclophosphamide alone</td>\n",
              "      <td>No</td>\n",
              "      <td>F-M</td>\n",
              "      <td>2.0</td>\n",
              "      <td>More than one race</td>\n",
              "      <td>0.0</td>\n",
              "      <td>90.0</td>\n",
              "      <td>No</td>\n",
              "      <td>Permissive mismatched</td>\n",
              "      <td>Related</td>\n",
              "      <td>N/A, Mel not given</td>\n",
              "      <td>8.0</td>\n",
              "      <td>No</td>\n",
              "      <td>2.0</td>\n",
              "      <td>No</td>\n",
              "      <td>10.0</td>\n",
              "      <td>0.0</td>\n",
              "      <td>19.793</td>\n",
              "    </tr>\n",
              "    <tr>\n",
              "      <th>3</th>\n",
              "      <td>3</td>\n",
              "      <td>High</td>\n",
              "      <td>No</td>\n",
              "      <td>Intermediate</td>\n",
              "      <td>No</td>\n",
              "      <td>2.0</td>\n",
              "      <td>8.0</td>\n",
              "      <td>No TBI</td>\n",
              "      <td>No</td>\n",
              "      <td>6.0</td>\n",
              "      <td>Bone marrow</td>\n",
              "      <td>No</td>\n",
              "      <td>No</td>\n",
              "      <td>No</td>\n",
              "      <td>ALL</td>\n",
              "      <td>6.0</td>\n",
              "      <td>+/+</td>\n",
              "      <td>10.0</td>\n",
              "      <td>2.0</td>\n",
              "      <td>P/P</td>\n",
              "      <td>6.0</td>\n",
              "      <td>2.0</td>\n",
              "      <td>No</td>\n",
              "      <td>2.0</td>\n",
              "      <td>2.0</td>\n",
              "      <td>BM</td>\n",
              "      <td>Intermediate</td>\n",
              "      <td>MAC</td>\n",
              "      <td>Not Hispanic or Latino</td>\n",
              "      <td>2009</td>\n",
              "      <td>No</td>\n",
              "      <td>Positive</td>\n",
              "      <td>No</td>\n",
              "      <td>Permissive</td>\n",
              "      <td>2.0</td>\n",
              "      <td>No</td>\n",
              "      <td>29.23</td>\n",
              "      <td>No</td>\n",
              "      <td>2.0</td>\n",
              "      <td>No</td>\n",
              "      <td>43.245</td>\n",
              "      <td>2.0</td>\n",
              "      <td>FK+ MMF +- others</td>\n",
              "      <td>No</td>\n",
              "      <td>M-M</td>\n",
              "      <td>2.0</td>\n",
              "      <td>White</td>\n",
              "      <td>0.0</td>\n",
              "      <td>90.0</td>\n",
              "      <td>Yes</td>\n",
              "      <td>Permissive mismatched</td>\n",
              "      <td>Unrelated</td>\n",
              "      <td>N/A, Mel not given</td>\n",
              "      <td>8.0</td>\n",
              "      <td>No</td>\n",
              "      <td>2.0</td>\n",
              "      <td>No</td>\n",
              "      <td>10.0</td>\n",
              "      <td>0.0</td>\n",
              "      <td>102.349</td>\n",
              "    </tr>\n",
              "    <tr>\n",
              "      <th>4</th>\n",
              "      <td>4</td>\n",
              "      <td>High</td>\n",
              "      <td>No</td>\n",
              "      <td>NaN</td>\n",
              "      <td>No</td>\n",
              "      <td>2.0</td>\n",
              "      <td>8.0</td>\n",
              "      <td>No TBI</td>\n",
              "      <td>No</td>\n",
              "      <td>6.0</td>\n",
              "      <td>Peripheral blood</td>\n",
              "      <td>No</td>\n",
              "      <td>No</td>\n",
              "      <td>No</td>\n",
              "      <td>MPN</td>\n",
              "      <td>6.0</td>\n",
              "      <td>+/+</td>\n",
              "      <td>10.0</td>\n",
              "      <td>2.0</td>\n",
              "      <td>NaN</td>\n",
              "      <td>5.0</td>\n",
              "      <td>2.0</td>\n",
              "      <td>No</td>\n",
              "      <td>2.0</td>\n",
              "      <td>2.0</td>\n",
              "      <td>PB</td>\n",
              "      <td>NaN</td>\n",
              "      <td>MAC</td>\n",
              "      <td>Hispanic or Latino</td>\n",
              "      <td>2018</td>\n",
              "      <td>No</td>\n",
              "      <td>NaN</td>\n",
              "      <td>Yes</td>\n",
              "      <td>NaN</td>\n",
              "      <td>2.0</td>\n",
              "      <td>No</td>\n",
              "      <td>56.81</td>\n",
              "      <td>No</td>\n",
              "      <td>2.0</td>\n",
              "      <td>No</td>\n",
              "      <td>29.740</td>\n",
              "      <td>2.0</td>\n",
              "      <td>TDEPLETION +- other</td>\n",
              "      <td>No</td>\n",
              "      <td>M-F</td>\n",
              "      <td>2.0</td>\n",
              "      <td>American Indian or Alaska Native</td>\n",
              "      <td>1.0</td>\n",
              "      <td>90.0</td>\n",
              "      <td>No</td>\n",
              "      <td>Permissive mismatched</td>\n",
              "      <td>Related</td>\n",
              "      <td>MEL</td>\n",
              "      <td>8.0</td>\n",
              "      <td>No</td>\n",
              "      <td>2.0</td>\n",
              "      <td>No</td>\n",
              "      <td>10.0</td>\n",
              "      <td>0.0</td>\n",
              "      <td>16.223</td>\n",
              "    </tr>\n",
              "  </tbody>\n",
              "</table>\n",
              "</div>\n",
              "    <div class=\"colab-df-buttons\">\n",
              "\n",
              "  <div class=\"colab-df-container\">\n",
              "    <button class=\"colab-df-convert\" onclick=\"convertToInteractive('df-9097c8d5-87fe-4870-93c4-4128f241d197')\"\n",
              "            title=\"Convert this dataframe to an interactive table.\"\n",
              "            style=\"display:none;\">\n",
              "\n",
              "  <svg xmlns=\"http://www.w3.org/2000/svg\" height=\"24px\" viewBox=\"0 -960 960 960\">\n",
              "    <path d=\"M120-120v-720h720v720H120Zm60-500h600v-160H180v160Zm220 220h160v-160H400v160Zm0 220h160v-160H400v160ZM180-400h160v-160H180v160Zm440 0h160v-160H620v160ZM180-180h160v-160H180v160Zm440 0h160v-160H620v160Z\"/>\n",
              "  </svg>\n",
              "    </button>\n",
              "\n",
              "  <style>\n",
              "    .colab-df-container {\n",
              "      display:flex;\n",
              "      gap: 12px;\n",
              "    }\n",
              "\n",
              "    .colab-df-convert {\n",
              "      background-color: #E8F0FE;\n",
              "      border: none;\n",
              "      border-radius: 50%;\n",
              "      cursor: pointer;\n",
              "      display: none;\n",
              "      fill: #1967D2;\n",
              "      height: 32px;\n",
              "      padding: 0 0 0 0;\n",
              "      width: 32px;\n",
              "    }\n",
              "\n",
              "    .colab-df-convert:hover {\n",
              "      background-color: #E2EBFA;\n",
              "      box-shadow: 0px 1px 2px rgba(60, 64, 67, 0.3), 0px 1px 3px 1px rgba(60, 64, 67, 0.15);\n",
              "      fill: #174EA6;\n",
              "    }\n",
              "\n",
              "    .colab-df-buttons div {\n",
              "      margin-bottom: 4px;\n",
              "    }\n",
              "\n",
              "    [theme=dark] .colab-df-convert {\n",
              "      background-color: #3B4455;\n",
              "      fill: #D2E3FC;\n",
              "    }\n",
              "\n",
              "    [theme=dark] .colab-df-convert:hover {\n",
              "      background-color: #434B5C;\n",
              "      box-shadow: 0px 1px 3px 1px rgba(0, 0, 0, 0.15);\n",
              "      filter: drop-shadow(0px 1px 2px rgba(0, 0, 0, 0.3));\n",
              "      fill: #FFFFFF;\n",
              "    }\n",
              "  </style>\n",
              "\n",
              "    <script>\n",
              "      const buttonEl =\n",
              "        document.querySelector('#df-9097c8d5-87fe-4870-93c4-4128f241d197 button.colab-df-convert');\n",
              "      buttonEl.style.display =\n",
              "        google.colab.kernel.accessAllowed ? 'block' : 'none';\n",
              "\n",
              "      async function convertToInteractive(key) {\n",
              "        const element = document.querySelector('#df-9097c8d5-87fe-4870-93c4-4128f241d197');\n",
              "        const dataTable =\n",
              "          await google.colab.kernel.invokeFunction('convertToInteractive',\n",
              "                                                    [key], {});\n",
              "        if (!dataTable) return;\n",
              "\n",
              "        const docLinkHtml = 'Like what you see? Visit the ' +\n",
              "          '<a target=\"_blank\" href=https://colab.research.google.com/notebooks/data_table.ipynb>data table notebook</a>'\n",
              "          + ' to learn more about interactive tables.';\n",
              "        element.innerHTML = '';\n",
              "        dataTable['output_type'] = 'display_data';\n",
              "        await google.colab.output.renderOutput(dataTable, element);\n",
              "        const docLink = document.createElement('div');\n",
              "        docLink.innerHTML = docLinkHtml;\n",
              "        element.appendChild(docLink);\n",
              "      }\n",
              "    </script>\n",
              "  </div>\n",
              "\n",
              "\n",
              "<div id=\"df-359f0383-3a11-4eab-91b6-4367e9f53015\">\n",
              "  <button class=\"colab-df-quickchart\" onclick=\"quickchart('df-359f0383-3a11-4eab-91b6-4367e9f53015')\"\n",
              "            title=\"Suggest charts\"\n",
              "            style=\"display:none;\">\n",
              "\n",
              "<svg xmlns=\"http://www.w3.org/2000/svg\" height=\"24px\"viewBox=\"0 0 24 24\"\n",
              "     width=\"24px\">\n",
              "    <g>\n",
              "        <path d=\"M19 3H5c-1.1 0-2 .9-2 2v14c0 1.1.9 2 2 2h14c1.1 0 2-.9 2-2V5c0-1.1-.9-2-2-2zM9 17H7v-7h2v7zm4 0h-2V7h2v10zm4 0h-2v-4h2v4z\"/>\n",
              "    </g>\n",
              "</svg>\n",
              "  </button>\n",
              "\n",
              "<style>\n",
              "  .colab-df-quickchart {\n",
              "      --bg-color: #E8F0FE;\n",
              "      --fill-color: #1967D2;\n",
              "      --hover-bg-color: #E2EBFA;\n",
              "      --hover-fill-color: #174EA6;\n",
              "      --disabled-fill-color: #AAA;\n",
              "      --disabled-bg-color: #DDD;\n",
              "  }\n",
              "\n",
              "  [theme=dark] .colab-df-quickchart {\n",
              "      --bg-color: #3B4455;\n",
              "      --fill-color: #D2E3FC;\n",
              "      --hover-bg-color: #434B5C;\n",
              "      --hover-fill-color: #FFFFFF;\n",
              "      --disabled-bg-color: #3B4455;\n",
              "      --disabled-fill-color: #666;\n",
              "  }\n",
              "\n",
              "  .colab-df-quickchart {\n",
              "    background-color: var(--bg-color);\n",
              "    border: none;\n",
              "    border-radius: 50%;\n",
              "    cursor: pointer;\n",
              "    display: none;\n",
              "    fill: var(--fill-color);\n",
              "    height: 32px;\n",
              "    padding: 0;\n",
              "    width: 32px;\n",
              "  }\n",
              "\n",
              "  .colab-df-quickchart:hover {\n",
              "    background-color: var(--hover-bg-color);\n",
              "    box-shadow: 0 1px 2px rgba(60, 64, 67, 0.3), 0 1px 3px 1px rgba(60, 64, 67, 0.15);\n",
              "    fill: var(--button-hover-fill-color);\n",
              "  }\n",
              "\n",
              "  .colab-df-quickchart-complete:disabled,\n",
              "  .colab-df-quickchart-complete:disabled:hover {\n",
              "    background-color: var(--disabled-bg-color);\n",
              "    fill: var(--disabled-fill-color);\n",
              "    box-shadow: none;\n",
              "  }\n",
              "\n",
              "  .colab-df-spinner {\n",
              "    border: 2px solid var(--fill-color);\n",
              "    border-color: transparent;\n",
              "    border-bottom-color: var(--fill-color);\n",
              "    animation:\n",
              "      spin 1s steps(1) infinite;\n",
              "  }\n",
              "\n",
              "  @keyframes spin {\n",
              "    0% {\n",
              "      border-color: transparent;\n",
              "      border-bottom-color: var(--fill-color);\n",
              "      border-left-color: var(--fill-color);\n",
              "    }\n",
              "    20% {\n",
              "      border-color: transparent;\n",
              "      border-left-color: var(--fill-color);\n",
              "      border-top-color: var(--fill-color);\n",
              "    }\n",
              "    30% {\n",
              "      border-color: transparent;\n",
              "      border-left-color: var(--fill-color);\n",
              "      border-top-color: var(--fill-color);\n",
              "      border-right-color: var(--fill-color);\n",
              "    }\n",
              "    40% {\n",
              "      border-color: transparent;\n",
              "      border-right-color: var(--fill-color);\n",
              "      border-top-color: var(--fill-color);\n",
              "    }\n",
              "    60% {\n",
              "      border-color: transparent;\n",
              "      border-right-color: var(--fill-color);\n",
              "    }\n",
              "    80% {\n",
              "      border-color: transparent;\n",
              "      border-right-color: var(--fill-color);\n",
              "      border-bottom-color: var(--fill-color);\n",
              "    }\n",
              "    90% {\n",
              "      border-color: transparent;\n",
              "      border-bottom-color: var(--fill-color);\n",
              "    }\n",
              "  }\n",
              "</style>\n",
              "\n",
              "  <script>\n",
              "    async function quickchart(key) {\n",
              "      const quickchartButtonEl =\n",
              "        document.querySelector('#' + key + ' button');\n",
              "      quickchartButtonEl.disabled = true;  // To prevent multiple clicks.\n",
              "      quickchartButtonEl.classList.add('colab-df-spinner');\n",
              "      try {\n",
              "        const charts = await google.colab.kernel.invokeFunction(\n",
              "            'suggestCharts', [key], {});\n",
              "      } catch (error) {\n",
              "        console.error('Error during call to suggestCharts:', error);\n",
              "      }\n",
              "      quickchartButtonEl.classList.remove('colab-df-spinner');\n",
              "      quickchartButtonEl.classList.add('colab-df-quickchart-complete');\n",
              "    }\n",
              "    (() => {\n",
              "      let quickchartButtonEl =\n",
              "        document.querySelector('#df-359f0383-3a11-4eab-91b6-4367e9f53015 button');\n",
              "      quickchartButtonEl.style.display =\n",
              "        google.colab.kernel.accessAllowed ? 'block' : 'none';\n",
              "    })();\n",
              "  </script>\n",
              "</div>\n",
              "\n",
              "    </div>\n",
              "  </div>\n"
            ],
            "application/vnd.google.colaboratory.intrinsic+json": {
              "type": "dataframe",
              "variable_name": "train"
            }
          },
          "metadata": {},
          "execution_count": 3
        }
      ],
      "execution_count": null
    },
    {
      "cell_type": "code",
      "source": [
        "plt.hist(train.loc[train.efs==1,\"efs_time\"],bins=100,label=\"efs=1, Did Not Survive\")\n",
        "plt.hist(train.loc[train.efs==0,\"efs_time\"],bins=100,label=\"efs=0, Maybe Survived\")\n",
        "plt.xlabel(\"Time of Observation, efs_time\")\n",
        "plt.ylabel(\"Density\")\n",
        "plt.title(\"Times of Observation. Either time to death, or time observed alive.\")\n",
        "plt.legend()\n",
        "plt.show()"
      ],
      "metadata": {
        "trusted": true,
        "execution": {
          "iopub.status.busy": "2025-02-24T07:25:21.658098Z",
          "iopub.execute_input": "2025-02-24T07:25:21.658455Z",
          "iopub.status.idle": "2025-02-24T07:25:22.198660Z",
          "shell.execute_reply.started": "2025-02-24T07:25:21.658423Z",
          "shell.execute_reply": "2025-02-24T07:25:22.197561Z"
        },
        "id": "uADebEmmyzpF",
        "outputId": "3717e1fe-c996-4cd9-f71d-9670f7a8369d",
        "colab": {
          "base_uri": "https://localhost:8080/",
          "height": 472
        }
      },
      "outputs": [
        {
          "output_type": "display_data",
          "data": {
            "text/plain": [
              "<Figure size 640x480 with 1 Axes>"
            ],
            "image/png": "[encoded data removed]"
          },
          "metadata": {}
        }
      ],
      "execution_count": null
    },
    {
      "cell_type": "code",
      "source": [
        "!pip install lifelines\n",
        "from lifelines import KaplanMeierFitter\n",
        "\n",
        "def transform_survival_probability(df, time_col='efs_time', event_col='efs'):\n",
        "    \"\"\"\n",
        "    Transform using survival probability estimates\n",
        "    \"\"\"\n",
        "    kmf = KaplanMeierFitter()\n",
        "    kmf.fit(df[time_col], df[event_col])\n",
        "\n",
        "    # Get survival probabilities at each time point\n",
        "    y = kmf.survival_function_at_times(df[time_col]).values\n",
        "\n",
        "    # Adjust for censoring\n",
        "    # censored_mask = df[event_col] == 0\n",
        "    #y[censored_mask] = y[censored_mask] * 1.2  # Increase survival prob for censored\n",
        "\n",
        "    return y\n",
        "\n",
        "train[\"y\"] = transform_survival_probability(train, time_col='efs_time', event_col='efs')\n"
      ],
      "metadata": {
        "trusted": true,
        "execution": {
          "iopub.status.busy": "2025-02-24T07:25:22.199960Z",
          "iopub.execute_input": "2025-02-24T07:25:22.200342Z",
          "iopub.status.idle": "2025-02-24T07:25:26.470108Z",
          "shell.execute_reply.started": "2025-02-24T07:25:22.200247Z",
          "shell.execute_reply": "2025-02-24T07:25:26.468750Z"
        },
        "id": "d3-bi_euyzpG",
        "outputId": "93a31870-03bd-4898-e09f-8f4fc809d331",
        "colab": {
          "base_uri": "https://localhost:8080/"
        }
      },
      "outputs": [
        {
          "output_type": "stream",
          "name": "stdout",
          "text": [
            "Collecting lifelines\n",
            "  Downloading lifelines-0.30.0-py3-none-any.whl.metadata (3.2 kB)\n",
            "Requirement already satisfied: numpy>=1.14.0 in /usr/local/lib/python3.11/dist-packages (from lifelines) (1.26.4)\n",
            "Requirement already satisfied: scipy>=1.7.0 in /usr/local/lib/python3.11/dist-packages (from lifelines) (1.14.1)\n",
            "Requirement already satisfied: pandas>=2.1 in /usr/local/lib/python3.11/dist-packages (from lifelines) (2.2.2)\n",
            "Requirement already satisfied: matplotlib>=3.0 in /usr/local/lib/python3.11/dist-packages (from lifelines) (3.10.0)\n",
            "Requirement already satisfied: autograd>=1.5 in /usr/local/lib/python3.11/dist-packages (from lifelines) (1.7.0)\n",
            "Collecting autograd-gamma>=0.3 (from lifelines)\n",
            "  Downloading autograd-gamma-0.5.0.tar.gz (4.0 kB)\n",
            "  Preparing metadata (setup.py) ... \u001b[?25l\u001b[?25hdone\n",
            "Collecting formulaic>=0.2.2 (from lifelines)\n",
            "  Downloading formulaic-1.1.1-py3-none-any.whl.metadata (6.9 kB)\n",
            "Collecting interface-meta>=1.2.0 (from formulaic>=0.2.2->lifelines)\n",
            "  Downloading interface_meta-1.3.0-py3-none-any.whl.metadata (6.7 kB)\n",
            "Requirement already satisfied: typing-extensions>=4.2.0 in /usr/local/lib/python3.11/dist-packages (from formulaic>=0.2.2->lifelines) (4.12.2)\n",
            "Requirement already satisfied: wrapt>=1.0 in /usr/local/lib/python3.11/dist-packages (from formulaic>=0.2.2->lifelines) (1.17.2)\n",
            "Requirement already satisfied: contourpy>=1.0.1 in /usr/local/lib/python3.11/dist-packages (from matplotlib>=3.0->lifelines) (1.3.1)\n",
            "Requirement already satisfied: cycler>=0.10 in /usr/local/lib/python3.11/dist-packages (from matplotlib>=3.0->lifelines) (0.12.1)\n",
            "Requirement already satisfied: fonttools>=4.22.0 in /usr/local/lib/python3.11/dist-packages (from matplotlib>=3.0->lifelines) (4.56.0)\n",
            "Requirement already satisfied: kiwisolver>=1.3.1 in /usr/local/lib/python3.11/dist-packages (from matplotlib>=3.0->lifelines) (1.4.8)\n",
            "Requirement already satisfied: packaging>=20.0 in /usr/local/lib/python3.11/dist-packages (from matplotlib>=3.0->lifelines) (24.2)\n",
            "Requirement already satisfied: pillow>=8 in /usr/local/lib/python3.11/dist-packages (from matplotlib>=3.0->lifelines) (11.1.0)\n",
            "Requirement already satisfied: pyparsing>=2.3.1 in /usr/local/lib/python3.11/dist-packages (from matplotlib>=3.0->lifelines) (3.2.1)\n",
            "Requirement already satisfied: python-dateutil>=2.7 in /usr/local/lib/python3.11/dist-packages (from matplotlib>=3.0->lifelines) (2.8.2)\n",
            "Requirement already satisfied: pytz>=2020.1 in /usr/local/lib/python3.11/dist-packages (from pandas>=2.1->lifelines) (2025.1)\n",
            "Requirement already satisfied: tzdata>=2022.7 in /usr/local/lib/python3.11/dist-packages (from pandas>=2.1->lifelines) (2025.1)\n",
            "Requirement already satisfied: six>=1.5 in /usr/local/lib/python3.11/dist-packages (from python-dateutil>=2.7->matplotlib>=3.0->lifelines) (1.17.0)\n",
            "Downloading lifelines-0.30.0-py3-none-any.whl (349 kB)\n",
            "\u001b[2K   \u001b[90m━━━━━━━━━━━━━━━━━━━━━━━━━━━━━━━━━━━━━━━━\u001b[0m \u001b[32m349.3/349.3 kB\u001b[0m \u001b[31m9.2 MB/s\u001b[0m eta \u001b[36m0:00:00\u001b[0m\n",
            "\u001b[?25hDownloading formulaic-1.1.1-py3-none-any.whl (115 kB)\n",
            "\u001b[2K   \u001b[90m━━━━━━━━━━━━━━━━━━━━━━━━━━━━━━━━━━━━━━━━\u001b[0m \u001b[32m115.7/115.7 kB\u001b[0m \u001b[31m7.6 MB/s\u001b[0m eta \u001b[36m0:00:00\u001b[0m\n",
            "\u001b[?25hDownloading interface_meta-1.3.0-py3-none-any.whl (14 kB)\n",
            "Building wheels for collected packages: autograd-gamma\n",
            "  Building wheel for autograd-gamma (setup.py) ... \u001b[?25l\u001b[?25hdone\n",
            "  Created wheel for autograd-gamma: filename=autograd_gamma-0.5.0-py3-none-any.whl size=4031 sha256=335a91305393b5d105e51628195fee799c3185da3694a68cee25274d134d95d6\n",
            "  Stored in directory: /root/.cache/pip/wheels/8b/67/f4/2caaae2146198dcb824f31a303833b07b14a5ec863fb3acd7b\n",
            "Successfully built autograd-gamma\n",
            "Installing collected packages: interface-meta, autograd-gamma, formulaic, lifelines\n",
            "Successfully installed autograd-gamma-0.5.0 formulaic-1.1.1 interface-meta-1.3.0 lifelines-0.30.0\n"
          ]
        }
      ],
      "execution_count": null
    },
    {
      "cell_type": "code",
      "source": [
        "plt.hist(train.loc[train.efs==1,\"y\"],bins=100,label=\"efs=1, Did Not Survive\")\n",
        "plt.hist(train.loc[train.efs==0,\"y\"],bins=100,label=\"efs=0, Maybe Survived\")\n",
        "plt.xlabel(\"Transformed Target y\")\n",
        "plt.ylabel(\"Density\")\n",
        "plt.title(\"Transformed Target y using both efs and efs_time.\")\n",
        "plt.legend()\n",
        "plt.show()"
      ],
      "metadata": {
        "trusted": true,
        "execution": {
          "iopub.status.busy": "2025-02-24T07:25:26.472536Z",
          "iopub.execute_input": "2025-02-24T07:25:26.472929Z",
          "iopub.status.idle": "2025-02-24T07:25:27.172084Z",
          "shell.execute_reply.started": "2025-02-24T07:25:26.472889Z",
          "shell.execute_reply": "2025-02-24T07:25:27.171078Z"
        },
        "id": "lxJ_BsGmyzpG",
        "outputId": "92228c54-06cd-4023-97a5-cd1019483100",
        "colab": {
          "base_uri": "https://localhost:8080/",
          "height": 472
        }
      },
      "outputs": [
        {
          "output_type": "display_data",
          "data": {
            "text/plain": [
              "<Figure size 640x480 with 1 Axes>"
            ],
            "image/png": "[encoded data removed]"
          },
          "metadata": {}
        }
      ],
      "execution_count": null
    },
    {
      "cell_type": "code",
      "source": [
        "RMV = [\"ID\",\"efs\",\"efs_time\",\"y\"]\n",
        "FEATURES = [c for c in train.columns if not c in RMV]\n",
        "print(f\"There are {len(FEATURES)} FEATURES: {FEATURES}\")"
      ],
      "metadata": {
        "trusted": true,
        "execution": {
          "iopub.status.busy": "2025-02-24T07:25:27.173326Z",
          "iopub.execute_input": "2025-02-24T07:25:27.173598Z",
          "iopub.status.idle": "2025-02-24T07:25:27.179149Z",
          "shell.execute_reply.started": "2025-02-24T07:25:27.173575Z",
          "shell.execute_reply": "2025-02-24T07:25:27.178341Z"
        },
        "id": "q9Am2dI1yzpH",
        "outputId": "2c3983fa-ed82-4b39-c0d3-b37b8ed15aee",
        "colab": {
          "base_uri": "https://localhost:8080/"
        }
      },
      "outputs": [
        {
          "output_type": "stream",
          "name": "stdout",
          "text": [
            "There are 57 FEATURES: ['dri_score', 'psych_disturb', 'cyto_score', 'diabetes', 'hla_match_c_high', 'hla_high_res_8', 'tbi_status', 'arrhythmia', 'hla_low_res_6', 'graft_type', 'vent_hist', 'renal_issue', 'pulm_severe', 'prim_disease_hct', 'hla_high_res_6', 'cmv_status', 'hla_high_res_10', 'hla_match_dqb1_high', 'tce_imm_match', 'hla_nmdp_6', 'hla_match_c_low', 'rituximab', 'hla_match_drb1_low', 'hla_match_dqb1_low', 'prod_type', 'cyto_score_detail', 'conditioning_intensity', 'ethnicity', 'year_hct', 'obesity', 'mrd_hct', 'in_vivo_tcd', 'tce_match', 'hla_match_a_high', 'hepatic_severe', 'donor_age', 'prior_tumor', 'hla_match_b_low', 'peptic_ulcer', 'age_at_hct', 'hla_match_a_low', 'gvhd_proph', 'rheum_issue', 'sex_match', 'hla_match_b_high', 'race_group', 'comorbidity_score', 'karnofsky_score', 'hepatic_mild', 'tce_div_match', 'donor_related', 'melphalan_dose', 'hla_low_res_8', 'cardiac', 'hla_match_drb1_high', 'pulm_moderate', 'hla_low_res_10']\n"
          ]
        }
      ],
      "execution_count": null
    },
    {
      "cell_type": "code",
      "source": [
        "hct_ci_mapping = {\n",
        "    \"arrhythmia\": {\"No\": 0, \"Not done\": 0, \"Yes\": 1},\n",
        "    \"cardiac\": {\"No\": 0, \"Not done\": 0, \"Yes\": 1},\n",
        "    \"diabetes\": {\"No\": 0, \"Not done\": 0, \"Yes\": 1},\n",
        "    \"hepatic_mild\": {\"No\": 0, \"Not done\": 0, \"Yes\": 1},\n",
        "    \"hepatic_severe\": {\"No\": 0, \"Not done\": 0, \"Yes\": 3},\n",
        "    \"psych_disturb\": {\"No\": 0, \"Not done\": 0, \"Yes\": 1},\n",
        "    \"obesity\": {\"No\": 0, \"Not done\": 0, \"Yes\": 1},\n",
        "    \"rheum_issue\": {\"No\": 0, \"Not done\": 0, \"Yes\": 2},\n",
        "    \"peptic_ulcer\": {\"No\": 0, \"Not done\": 0, \"Yes\": 2},\n",
        "    \"renal_issue\": {\"No\": 0, \"Not done\": 0, \"Yes\": 2},\n",
        "    \"prior_tumor\": {\"No\": 0, \"Not done\": 0, \"Yes\": 3},\n",
        "    \"pulm_moderate\": {\"No\": 0, \"Not done\": 0, \"Yes\": 2},\n",
        "    \"pulm_severe\": {\"No\": 0, \"Not done\": 0, \"Yes\": 3},\n",
        "}\n",
        "def calculate_hct_ci_score(row, mapping):\n",
        "        \"\"\"\n",
        "        This function calculates the hct_ci score\n",
        "\n",
        "        Args:\n",
        "            row (pd.Series): Patient Clinical Data\n",
        "            mapping (dict): HCT-CI score mapping\n",
        "\n",
        "        Returns:\n",
        "            int: HCT-CI score\n",
        "        \"\"\"\n",
        "\n",
        "        score = 0\n",
        "\n",
        "        if \"hepatic_severe\" in row and row[\"hepatic_severe\"] == \"Yes\":\n",
        "            score += mapping[\"hepatic_severe\"][\"Yes\"]\n",
        "        elif \"hepatic_mild\" in row and row[\"hepatic_mild\"] == \"Yes\":\n",
        "            score += mapping[\"hepatic_mild\"][\"Yes\"]\n",
        "        if \"pulm_moderate\" in row and row[\"pulm_moderate\"] == \"Yes\":\n",
        "            score += mapping[\"pulm_moderate\"][\"Yes\"]\n",
        "        elif \"pulm_severe\" in row and row[\"pulm_severe\"] == \"Yes\":\n",
        "            score += mapping[\"pulm_severe\"][\"Yes\"]\n",
        "\n",
        "        # Other Conditions\n",
        "        for condition, mapping_values in mapping.items():\n",
        "            if condition not in [\"hepatic_mild\", \"hepatic_severe\",\"pulm_moderate\", \"pulm_severe\"] and condition in row:\n",
        "                score += mapping_values.get(row[condition], 0)\n",
        "\n",
        "        return score"
      ],
      "metadata": {
        "trusted": true,
        "execution": {
          "iopub.status.busy": "2025-02-24T07:25:27.179957Z",
          "iopub.execute_input": "2025-02-24T07:25:27.180180Z",
          "iopub.status.idle": "2025-02-24T07:25:27.197216Z",
          "shell.execute_reply.started": "2025-02-24T07:25:27.180160Z",
          "shell.execute_reply": "2025-02-24T07:25:27.196168Z"
        },
        "id": "kQIMp2LUyzpH"
      },
      "outputs": [],
      "execution_count": null
    },
    {
      "cell_type": "code",
      "source": [
        "# cat2num function is used for mapping some of the Categorical Values into Numerical Values\n",
        "\n",
        "def cat2num(df):\n",
        "    df['conditioning_intensity'] = df['conditioning_intensity'].map({\n",
        "    'NMA': 1,\n",
        "    'RIC': 2,\n",
        "    'MAC': 3,\n",
        "    'TBD': None,\n",
        "    'No drugs reported': None,\n",
        "    'N/A, F(pre-TED) not submitted': None})\n",
        "\n",
        "    df['tbi_status'] = df['tbi_status'].map({\n",
        "    'No TBI': 0,\n",
        "    'TBI +- Other, <=cGy': 1,\n",
        "    'TBI +- Other, -cGy, fractionated': 2,\n",
        "    'TBI + Cy +- Other': 3,\n",
        "    'TBI +- Other, -cGy, single': 4,\n",
        "    'TBI +- Other, >cGy': 5,\n",
        "    'TBI +- Other, unknown dose': None})\n",
        "\n",
        "    df['dri_score'] = df['dri_score'].map({\n",
        "    'Low': 1,\n",
        "    'Intermediate': 2,\n",
        "    'Intermediate - TED AML case <missing cytogenetics': 3,\n",
        "    'High': 4,\n",
        "    'High - TED AML case <missing cytogenetics': 5,\n",
        "    'Very High': 6,\n",
        "    'N/A - pediatric': -3,\n",
        "    'N/A - non-malignant indication': -1,\n",
        "    'TBD cytogenetics': -2,\n",
        "    'N/A - disease not classifiable': -4,\n",
        "    'Missing disease status': 0})\n",
        "\n",
        "    df['cyto_score'] = df['cyto_score'].map({\n",
        "    'Poor': 4,\n",
        "    'Normal': 3,\n",
        "    'Intermediate': 2,\n",
        "    'Favorable': 1,\n",
        "    'TBD': -1,\n",
        "    'Other': -2,\n",
        "    'Not tested': None})\n",
        "\n",
        "    df['cyto_score_detail'] = df['cyto_score_detail'].map({\n",
        "    'Poor': 3,\n",
        "    'Intermediate': 2,\n",
        "    'Favorable': 1,\n",
        "    'TBD': -1,\n",
        "    'Not tested': None})\n",
        "\n",
        "    return df"
      ],
      "metadata": {
        "trusted": true,
        "execution": {
          "iopub.status.busy": "2025-02-24T07:25:27.198201Z",
          "iopub.execute_input": "2025-02-24T07:25:27.198555Z",
          "iopub.status.idle": "2025-02-24T07:25:27.217534Z",
          "shell.execute_reply.started": "2025-02-24T07:25:27.198526Z",
          "shell.execute_reply": "2025-02-24T07:25:27.216591Z"
        },
        "id": "013MPM1lyzpH"
      },
      "outputs": [],
      "execution_count": null
    },
    {
      "cell_type": "code",
      "source": [
        "def fill_hla_combined_low(row):\n",
        "    if np.isnan(row['hla_combined_low']):\n",
        "        components = [\n",
        "            row['hla_match_drb1_low'], row['hla_match_dqb1_low'],\n",
        "            row['hla_match_a_low'], row['hla_match_b_low'], row['hla_match_c_low']\n",
        "        ]\n",
        "        if all([not np.isnan(x) for x in components]):\n",
        "            return sum(components)\n",
        "        else:\n",
        "            if not np.isnan(row['hla_low_res_8']) and not np.isnan(row['hla_match_dqb1_low']):\n",
        "                return row['hla_low_res_8'] + row['hla_match_dqb1_low']\n",
        "            elif not np.isnan(row['hla_low_res_6']):\n",
        "                components_6 = [\n",
        "                    row['hla_match_dqb1_low'], row['hla_match_c_low']\n",
        "                ]\n",
        "                if all([not np.isnan(x) for x in components_6]):\n",
        "                    return row['hla_low_res_6'] + sum(components_6)\n",
        "                else:\n",
        "                    return sum([x for x in components if not np.isnan(x)])\n",
        "    return row['hla_combined_low']"
      ],
      "metadata": {
        "trusted": true,
        "execution": {
          "iopub.status.busy": "2025-02-24T07:25:27.220316Z",
          "iopub.execute_input": "2025-02-24T07:25:27.220624Z",
          "iopub.status.idle": "2025-02-24T07:25:27.236821Z",
          "shell.execute_reply.started": "2025-02-24T07:25:27.220598Z",
          "shell.execute_reply": "2025-02-24T07:25:27.235994Z"
        },
        "id": "UKwk9kXFyzpI"
      },
      "outputs": [],
      "execution_count": null
    },
    {
      "cell_type": "code",
      "source": [
        "def add_features(df):\n",
        "    df[\"hct_ci_score\"] = df.apply(lambda row: calculate_hct_ci_score(row, hct_ci_mapping), axis=1)\n",
        "    df['donor_recipient_age_diff'] = abs(df['donor_age'] - df['age_at_hct'])\n",
        "    df = cat2num(df)\n",
        "    df['hla_combined_low'] = df['hla_low_res_10']\n",
        "    df['hla_combined_low'] = df.apply(fill_hla_combined_low, axis=1)\n",
        "    df['hla_match_ratio'] = (df['hla_high_res_8'] + df['hla_low_res_8']) / 16\n",
        "    df['years_since_2000'] = df['year_hct'] - 2000\n",
        "    df['null_count'] = df.isnull().sum(axis=1)\n",
        "    df['ci_score_danger'] = df['hct_ci_score'].apply(lambda x: 2 if x >= 3 else 1 if x >= 1 else 0)\n",
        "    return df\n",
        "\n",
        "train = add_features(train)\n",
        "test = add_features(test)"
      ],
      "metadata": {
        "trusted": true,
        "execution": {
          "iopub.status.busy": "2025-02-24T07:25:27.238584Z",
          "iopub.execute_input": "2025-02-24T07:25:27.238922Z",
          "iopub.status.idle": "2025-02-24T07:25:31.460162Z",
          "shell.execute_reply.started": "2025-02-24T07:25:27.238889Z",
          "shell.execute_reply": "2025-02-24T07:25:31.459385Z"
        },
        "id": "9H6VheNJyzpI"
      },
      "outputs": [],
      "execution_count": null
    },
    {
      "cell_type": "code",
      "source": [
        "CATS = []\n",
        "for c in FEATURES:\n",
        "    if train[c].dtype==\"object\":\n",
        "        CATS.append(c)\n",
        "        train[c] = train[c].fillna(\"NAN\")\n",
        "        test[c] = test[c].fillna(\"NAN\")\n",
        "print(f\"In these features, there are {len(CATS)} CATEGORICAL FEATURES: {CATS}\")"
      ],
      "metadata": {
        "trusted": true,
        "execution": {
          "iopub.status.busy": "2025-02-24T07:25:31.461102Z",
          "iopub.execute_input": "2025-02-24T07:25:31.461415Z",
          "iopub.status.idle": "2025-02-24T07:25:31.608303Z",
          "shell.execute_reply.started": "2025-02-24T07:25:31.461388Z",
          "shell.execute_reply": "2025-02-24T07:25:31.607336Z"
        },
        "id": "PH7m6YfjyzpJ",
        "outputId": "866cee76-7d81-4c8d-c7f0-859d1d8ee4e3",
        "colab": {
          "base_uri": "https://localhost:8080/"
        }
      },
      "outputs": [
        {
          "output_type": "stream",
          "name": "stdout",
          "text": [
            "In these features, there are 30 CATEGORICAL FEATURES: ['psych_disturb', 'diabetes', 'arrhythmia', 'graft_type', 'vent_hist', 'renal_issue', 'pulm_severe', 'prim_disease_hct', 'cmv_status', 'tce_imm_match', 'rituximab', 'prod_type', 'ethnicity', 'obesity', 'mrd_hct', 'in_vivo_tcd', 'tce_match', 'hepatic_severe', 'prior_tumor', 'peptic_ulcer', 'gvhd_proph', 'rheum_issue', 'sex_match', 'race_group', 'hepatic_mild', 'tce_div_match', 'donor_related', 'melphalan_dose', 'cardiac', 'pulm_moderate']\n"
          ]
        }
      ],
      "execution_count": null
    },
    {
      "cell_type": "code",
      "source": [
        "import pandas as pd\n",
        "import matplotlib.pyplot as plt\n",
        "\n",
        "plt.hist(train['null_count'], bins=100, edgecolor='black')  # bins를 조절하여 구간 개수 변경 가능\n",
        "plt.xlabel('null count')\n",
        "plt.ylabel('Frequency')\n",
        "plt.title('null count histogram')\n",
        "plt.show()"
      ],
      "metadata": {
        "trusted": true,
        "execution": {
          "iopub.status.busy": "2025-02-24T07:25:31.609302Z",
          "iopub.execute_input": "2025-02-24T07:25:31.609633Z",
          "iopub.status.idle": "2025-02-24T07:25:31.931157Z",
          "shell.execute_reply.started": "2025-02-24T07:25:31.609597Z",
          "shell.execute_reply": "2025-02-24T07:25:31.929843Z"
        },
        "id": "wduR1GjwyzpJ",
        "outputId": "84dc7a38-f5e5-44ac-ed05-8e7976ad7af4",
        "colab": {
          "base_uri": "https://localhost:8080/",
          "height": 472
        }
      },
      "outputs": [
        {
          "output_type": "display_data",
          "data": {
            "text/plain": [
              "<Figure size 640x480 with 1 Axes>"
            ],
            "image/png": "[encoded data removed]"
          },
          "metadata": {}
        }
      ],
      "execution_count": null
    },
    {
      "cell_type": "code",
      "source": [
        "combined = pd.concat([train,test],axis=0,ignore_index=True)\n",
        "#print(\"Combined data shape:\", combined.shape )\n",
        "\n",
        "# LABEL ENCODE CATEGORICAL FEATURES\n",
        "print(\"We LABEL ENCODE the CATEGORICAL FEATURES: \",end=\"\")\n",
        "for c in FEATURES:\n",
        "\n",
        "    # LABEL ENCODE CATEGORICAL AND CONVERT TO INT32 CATEGORY\n",
        "    if c in CATS:\n",
        "        print(f\"{c}, \",end=\"\")\n",
        "        combined[c],_ = combined[c].factorize()\n",
        "        combined[c] -= combined[c].min()\n",
        "        combined[c] = combined[c].astype(\"int32\")\n",
        "        combined[c] = combined[c].astype(\"category\")\n",
        "\n",
        "    # REDUCE PRECISION OF NUMERICAL TO 32BIT TO SAVE MEMORY\n",
        "    else:\n",
        "        if combined[c].dtype==\"float64\":\n",
        "            combined[c] = combined[c].astype(\"float32\")\n",
        "        if combined[c].dtype==\"int64\":\n",
        "            combined[c] = combined[c].astype(\"int32\")\n",
        "\n",
        "# for c in cat2num:\n",
        "#     combined[c] = combined[c].astype(\"int32\")\n",
        "\n",
        "train = combined.iloc[:len(train)].copy()\n",
        "test = combined.iloc[len(train):].reset_index(drop=True).copy()"
      ],
      "metadata": {
        "trusted": true,
        "execution": {
          "iopub.status.busy": "2025-02-24T07:25:31.932233Z",
          "iopub.execute_input": "2025-02-24T07:25:31.932574Z",
          "iopub.status.idle": "2025-02-24T07:25:32.158448Z",
          "shell.execute_reply.started": "2025-02-24T07:25:31.932536Z",
          "shell.execute_reply": "2025-02-24T07:25:32.157510Z"
        },
        "id": "iVJpDPfKyzpK",
        "outputId": "df124b9b-ba73-43be-e7e1-d110c6b7b481",
        "colab": {
          "base_uri": "https://localhost:8080/"
        }
      },
      "outputs": [
        {
          "output_type": "stream",
          "name": "stdout",
          "text": [
            "We LABEL ENCODE the CATEGORICAL FEATURES: psych_disturb, diabetes, arrhythmia, graft_type, vent_hist, renal_issue, pulm_severe, prim_disease_hct, cmv_status, tce_imm_match, rituximab, prod_type, ethnicity, obesity, mrd_hct, in_vivo_tcd, tce_match, hepatic_severe, prior_tumor, peptic_ulcer, gvhd_proph, rheum_issue, sex_match, race_group, hepatic_mild, tce_div_match, donor_related, melphalan_dose, cardiac, pulm_moderate, "
          ]
        }
      ],
      "execution_count": null
    },
    {
      "cell_type": "code",
      "source": [
        "FEATURES += [\"hct_ci_score\", 'donor_recipient_age_diff', \"hla_combined_low\", \"hla_match_ratio\",\n",
        "             \"years_since_2000\", \"null_count\",\"ci_score_danger\"]"
      ],
      "metadata": {
        "trusted": true,
        "execution": {
          "iopub.status.busy": "2025-02-24T07:25:32.159369Z",
          "iopub.execute_input": "2025-02-24T07:25:32.159658Z",
          "iopub.status.idle": "2025-02-24T07:25:32.163532Z",
          "shell.execute_reply.started": "2025-02-24T07:25:32.159633Z",
          "shell.execute_reply": "2025-02-24T07:25:32.162686Z"
        },
        "id": "cY5PMisNyzpK"
      },
      "outputs": [],
      "execution_count": null
    },
    {
      "cell_type": "code",
      "source": [
        "from sklearn.model_selection import KFold\n",
        "from xgboost import XGBRegressor, XGBClassifier\n",
        "import xgboost\n",
        "print(\"Using XGBoost version\",xgboost.__version__)"
      ],
      "metadata": {
        "trusted": true,
        "execution": {
          "iopub.status.busy": "2025-02-24T07:25:32.164351Z",
          "iopub.execute_input": "2025-02-24T07:25:32.164646Z",
          "iopub.status.idle": "2025-02-24T07:25:32.181188Z",
          "shell.execute_reply.started": "2025-02-24T07:25:32.164621Z",
          "shell.execute_reply": "2025-02-24T07:25:32.180323Z"
        },
        "id": "T_nIX1sMyzpK",
        "outputId": "f9d55b10-e285-493d-9853-ee513cd4b55f",
        "colab": {
          "base_uri": "https://localhost:8080/"
        }
      },
      "outputs": [
        {
          "output_type": "stream",
          "name": "stdout",
          "text": [
            "Using XGBoost version 2.1.4\n"
          ]
        }
      ],
      "execution_count": null
    },
    {
      "cell_type": "code",
      "source": [
        "from sklearn.metrics import accuracy_score, f1_score, roc_auc_score\n",
        "from sklearn.model_selection import StratifiedKFold\n",
        "from xgboost import XGBClassifier\n",
        "\n",
        "FOLDS = 5\n",
        "kf = StratifiedKFold(n_splits=FOLDS, shuffle=True, random_state=42)\n",
        "\n",
        "oof_xgb = np.zeros(len(train))\n",
        "pred_efs = np.zeros(len(test))\n",
        "\n",
        "for i, (train_index, test_index) in enumerate(kf.split(train, train[\"efs\"])):\n",
        "\n",
        "    print(\"#\"*25)\n",
        "    print(f\"### Fold {i+1}\")\n",
        "    print(\"#\"*25)\n",
        "\n",
        "    x_train = train.loc[train_index, FEATURES].copy()\n",
        "    y_train = train.loc[train_index, \"efs\"]\n",
        "    x_valid = train.loc[test_index, FEATURES].copy()\n",
        "    y_valid = train.loc[test_index, \"efs\"]\n",
        "    x_test = test[FEATURES].copy()\n",
        "\n",
        "    model_xgb = XGBClassifier(\n",
        "        device=\"cuda\",\n",
        "        max_depth=3,\n",
        "        colsample_bytree=0.7129400756425178,\n",
        "        subsample=0.8185881823156917,\n",
        "        n_estimators=20_000,\n",
        "        learning_rate=0.04425768131771064,\n",
        "        eval_metric=\"auc\",\n",
        "        early_stopping_rounds=50,\n",
        "        objective='binary:logistic',\n",
        "        scale_pos_weight=1.5379160847615545,\n",
        "        min_child_weight=4,\n",
        "        enable_categorical=True,\n",
        "        gamma=3.1330719334577584\n",
        "    )\n",
        "    model_xgb.fit(\n",
        "        x_train, y_train,\n",
        "        eval_set=[(x_valid, y_valid)],\n",
        "        verbose=100\n",
        "    )\n",
        "\n",
        "    # INFER OOF (Probabilities -> Binary)\n",
        "    oof_xgb[test_index] = (model_xgb.predict_proba(x_valid)[:, 1] > 0.5).astype(int)\n",
        "    # INFER TEST (Probabilities -> Average Probs)\n",
        "    pred_efs += model_xgb.predict_proba(x_test)[:, 1]\n",
        "\n",
        "# COMPUTE AVERAGE TEST PREDS\n",
        "pred_efs = (pred_efs / FOLDS > 0.5).astype(int)\n",
        "\n",
        "# EVALUATE PERFORMANCE\n",
        "accuracy = accuracy_score(train[\"efs\"], oof_xgb)\n",
        "f1 = f1_score(train[\"efs\"], oof_xgb)\n",
        "roc_auc = roc_auc_score(train[\"efs\"], oof_xgb)\n",
        "\n",
        "print(f\"Accuracy: {accuracy:.4f}\")\n",
        "print(f\"F1 Score: {f1:.4f}\")\n",
        "print(f\"ROC AUC Score: {roc_auc:.4f}\")\n"
      ],
      "metadata": {
        "trusted": true,
        "execution": {
          "iopub.status.busy": "2025-02-24T07:25:32.182038Z",
          "iopub.execute_input": "2025-02-24T07:25:32.182275Z",
          "iopub.status.idle": "2025-02-24T07:26:02.321433Z",
          "shell.execute_reply.started": "2025-02-24T07:25:32.182255Z",
          "shell.execute_reply": "2025-02-24T07:26:02.320523Z"
        },
        "id": "XILRhV3NyzpL",
        "outputId": "098d579d-39ef-4c3b-c143-ab7808b8dc68",
        "colab": {
          "base_uri": "https://localhost:8080/"
        }
      },
      "outputs": [
        {
          "output_type": "stream",
          "name": "stdout",
          "text": [
            "#########################\n",
            "### Fold 1\n",
            "#########################\n",
            "[0]\tvalidation_0-auc:0.65118\n"
          ]
        },
        {
          "output_type": "stream",
          "name": "stderr",
          "text": [
            "/usr/local/lib/python3.11/dist-packages/xgboost/core.py:158: UserWarning: [12:03:54] WARNING: /workspace/src/context.cc:43: No visible GPU is found, setting device to CPU.\n",
            "  warnings.warn(smsg, UserWarning)\n",
            "/usr/local/lib/python3.11/dist-packages/xgboost/core.py:158: UserWarning: [12:03:54] WARNING: /workspace/src/context.cc:196: XGBoost is not compiled with CUDA support.\n",
            "  warnings.warn(smsg, UserWarning)\n"
          ]
        },
        {
          "output_type": "stream",
          "name": "stdout",
          "text": [
            "[100]\tvalidation_0-auc:0.72440\n",
            "[200]\tvalidation_0-auc:0.73385\n",
            "[300]\tvalidation_0-auc:0.73894\n",
            "[400]\tvalidation_0-auc:0.74183\n",
            "[500]\tvalidation_0-auc:0.74303\n",
            "[600]\tvalidation_0-auc:0.74370\n",
            "[700]\tvalidation_0-auc:0.74435\n",
            "[800]\tvalidation_0-auc:0.74484\n",
            "[801]\tvalidation_0-auc:0.74485\n",
            "#########################\n",
            "### Fold 2\n",
            "#########################\n",
            "[0]\tvalidation_0-auc:0.67219\n"
          ]
        },
        {
          "output_type": "stream",
          "name": "stderr",
          "text": [
            "/usr/local/lib/python3.11/dist-packages/xgboost/core.py:158: UserWarning: [12:04:02] WARNING: /workspace/src/context.cc:43: No visible GPU is found, setting device to CPU.\n",
            "  warnings.warn(smsg, UserWarning)\n",
            "/usr/local/lib/python3.11/dist-packages/xgboost/core.py:158: UserWarning: [12:04:02] WARNING: /workspace/src/context.cc:196: XGBoost is not compiled with CUDA support.\n",
            "  warnings.warn(smsg, UserWarning)\n"
          ]
        },
        {
          "output_type": "stream",
          "name": "stdout",
          "text": [
            "[100]\tvalidation_0-auc:0.74742\n",
            "[200]\tvalidation_0-auc:0.75682\n",
            "[300]\tvalidation_0-auc:0.76037\n",
            "[400]\tvalidation_0-auc:0.76289\n",
            "[500]\tvalidation_0-auc:0.76404\n",
            "[543]\tvalidation_0-auc:0.76405\n",
            "#########################\n",
            "### Fold 3\n",
            "#########################\n",
            "[0]\tvalidation_0-auc:0.66749\n"
          ]
        },
        {
          "output_type": "stream",
          "name": "stderr",
          "text": [
            "/usr/local/lib/python3.11/dist-packages/xgboost/core.py:158: UserWarning: [12:04:09] WARNING: /workspace/src/context.cc:43: No visible GPU is found, setting device to CPU.\n",
            "  warnings.warn(smsg, UserWarning)\n",
            "/usr/local/lib/python3.11/dist-packages/xgboost/core.py:158: UserWarning: [12:04:09] WARNING: /workspace/src/context.cc:196: XGBoost is not compiled with CUDA support.\n",
            "  warnings.warn(smsg, UserWarning)\n"
          ]
        },
        {
          "output_type": "stream",
          "name": "stdout",
          "text": [
            "[100]\tvalidation_0-auc:0.74643\n",
            "[200]\tvalidation_0-auc:0.75634\n",
            "[300]\tvalidation_0-auc:0.75979\n",
            "[400]\tvalidation_0-auc:0.76143\n",
            "[500]\tvalidation_0-auc:0.76212\n",
            "[600]\tvalidation_0-auc:0.76283\n",
            "[635]\tvalidation_0-auc:0.76289\n",
            "#########################\n",
            "### Fold 4\n",
            "#########################\n",
            "[0]\tvalidation_0-auc:0.65938\n"
          ]
        },
        {
          "output_type": "stream",
          "name": "stderr",
          "text": [
            "/usr/local/lib/python3.11/dist-packages/xgboost/core.py:158: UserWarning: [12:04:15] WARNING: /workspace/src/context.cc:43: No visible GPU is found, setting device to CPU.\n",
            "  warnings.warn(smsg, UserWarning)\n",
            "/usr/local/lib/python3.11/dist-packages/xgboost/core.py:158: UserWarning: [12:04:15] WARNING: /workspace/src/context.cc:196: XGBoost is not compiled with CUDA support.\n",
            "  warnings.warn(smsg, UserWarning)\n"
          ]
        },
        {
          "output_type": "stream",
          "name": "stdout",
          "text": [
            "[100]\tvalidation_0-auc:0.74188\n",
            "[200]\tvalidation_0-auc:0.75155\n",
            "[300]\tvalidation_0-auc:0.75592\n",
            "[400]\tvalidation_0-auc:0.75839\n",
            "[500]\tvalidation_0-auc:0.76059\n",
            "[600]\tvalidation_0-auc:0.76210\n",
            "[700]\tvalidation_0-auc:0.76292\n",
            "[754]\tvalidation_0-auc:0.76282\n",
            "#########################\n",
            "### Fold 5\n",
            "#########################\n",
            "[0]\tvalidation_0-auc:0.66344\n"
          ]
        },
        {
          "output_type": "stream",
          "name": "stderr",
          "text": [
            "/usr/local/lib/python3.11/dist-packages/xgboost/core.py:158: UserWarning: [12:04:24] WARNING: /workspace/src/context.cc:43: No visible GPU is found, setting device to CPU.\n",
            "  warnings.warn(smsg, UserWarning)\n",
            "/usr/local/lib/python3.11/dist-packages/xgboost/core.py:158: UserWarning: [12:04:24] WARNING: /workspace/src/context.cc:196: XGBoost is not compiled with CUDA support.\n",
            "  warnings.warn(smsg, UserWarning)\n"
          ]
        },
        {
          "output_type": "stream",
          "name": "stdout",
          "text": [
            "[100]\tvalidation_0-auc:0.73844\n",
            "[200]\tvalidation_0-auc:0.74572\n",
            "[300]\tvalidation_0-auc:0.74980\n",
            "[400]\tvalidation_0-auc:0.75127\n",
            "[500]\tvalidation_0-auc:0.75201\n",
            "[541]\tvalidation_0-auc:0.75195\n",
            "Accuracy: 0.6756\n",
            "F1 Score: 0.7454\n",
            "ROC AUC Score: 0.6582\n"
          ]
        }
      ],
      "execution_count": null
    },
    {
      "cell_type": "code",
      "source": [
        "bin_pred = oof_xgb\n",
        "bin_pred"
      ],
      "metadata": {
        "trusted": true,
        "execution": {
          "iopub.status.busy": "2025-02-24T07:26:02.322330Z",
          "iopub.execute_input": "2025-02-24T07:26:02.322607Z",
          "iopub.status.idle": "2025-02-24T07:26:02.328381Z",
          "shell.execute_reply.started": "2025-02-24T07:26:02.322583Z",
          "shell.execute_reply": "2025-02-24T07:26:02.327512Z"
        },
        "id": "2Xn3nMYqyzpL",
        "outputId": "9015a718-9cca-44de-e408-bedbd1310fed",
        "colab": {
          "base_uri": "https://localhost:8080/"
        }
      },
      "outputs": [
        {
          "output_type": "execute_result",
          "data": {
            "text/plain": [
              "array([0., 1., 0., ..., 1., 0., 0.])"
            ]
          },
          "metadata": {},
          "execution_count": 18
        }
      ],
      "execution_count": null
    },
    {
      "cell_type": "code",
      "source": [
        "pred_classifier = pred_efs\n",
        "pred_classifier"
      ],
      "metadata": {
        "trusted": true,
        "execution": {
          "iopub.status.busy": "2025-02-24T07:26:02.329360Z",
          "iopub.execute_input": "2025-02-24T07:26:02.329699Z",
          "iopub.status.idle": "2025-02-24T07:26:02.343799Z",
          "shell.execute_reply.started": "2025-02-24T07:26:02.329665Z",
          "shell.execute_reply": "2025-02-24T07:26:02.342996Z"
        },
        "id": "9CcDZt1SyzpL",
        "outputId": "c6bfc810-43ba-4008-c3a2-a72ae5d3a445",
        "colab": {
          "base_uri": "https://localhost:8080/"
        }
      },
      "outputs": [
        {
          "output_type": "execute_result",
          "data": {
            "text/plain": [
              "array([0, 1, 0])"
            ]
          },
          "metadata": {},
          "execution_count": 19
        }
      ],
      "execution_count": null
    },
    {
      "cell_type": "code",
      "source": [
        "%%time\n",
        "FOLDS = 5\n",
        "kf = KFold(n_splits=FOLDS, shuffle=True, random_state=42)\n",
        "\n",
        "oof_xgb = np.zeros(len(train))\n",
        "pred_xgb = np.zeros(len(test))\n",
        "\n",
        "for i, (train_index, test_index) in enumerate(kf.split(train)):\n",
        "\n",
        "    print(\"#\"*25)\n",
        "    print(f\"### Fold {i+1}\")\n",
        "    print(\"#\"*25)\n",
        "\n",
        "    x_train = train.loc[train_index,FEATURES].copy()\n",
        "    y_train = train.loc[train_index,\"y\"]\n",
        "    x_valid = train.loc[test_index,FEATURES].copy()\n",
        "    y_valid = train.loc[test_index,\"y\"]\n",
        "    x_test = test[FEATURES].copy()\n",
        "\n",
        "    model_xgb = XGBRegressor(\n",
        "        device=\"cpu\",\n",
        "        max_depth=5,\n",
        "        colsample_bytree=0.4309907360736148,\n",
        "        subsample=0.6727848987288046,\n",
        "        n_estimators=10_000,\n",
        "        learning_rate=0.03509792076095853,\n",
        "        eval_metric=\"mae\",\n",
        "        early_stopping_rounds=25,\n",
        "        objective='reg:logistic',\n",
        "        enable_categorical=True,\n",
        "        min_child_weight=10,\n",
        "        reg_alpha= 2.950200470036872,\n",
        "        reg_lambda= 1.484334590329492,\n",
        "        gamma = 0.008314053362236895\n",
        "    )\n",
        "    model_xgb.fit(\n",
        "        x_train, y_train,\n",
        "        eval_set=[(x_valid, y_valid)],\n",
        "        verbose=100\n",
        "    )\n",
        "\n",
        "    # INFER OOF\n",
        "    oof_xgb[test_index] = model_xgb.predict(x_valid)\n",
        "    # INFER TEST\n",
        "    pred_xgb += model_xgb.predict(x_test)\n",
        "\n",
        "# COMPUTE AVERAGE TEST PREDS\n",
        "pred_xgb /= FOLDS"
      ],
      "metadata": {
        "trusted": true,
        "execution": {
          "iopub.status.busy": "2025-02-24T07:26:02.344636Z",
          "iopub.execute_input": "2025-02-24T07:26:02.344866Z",
          "iopub.status.idle": "2025-02-24T07:26:56.331704Z",
          "shell.execute_reply.started": "2025-02-24T07:26:02.344846Z",
          "shell.execute_reply": "2025-02-24T07:26:56.330844Z"
        },
        "id": "HGIiqGslyzpL",
        "outputId": "2ca092ef-095f-4901-e56b-bbfc9baccfa2",
        "colab": {
          "base_uri": "https://localhost:8080/"
        }
      },
      "outputs": [
        {
          "output_type": "stream",
          "name": "stdout",
          "text": [
            "#########################\n",
            "### Fold 1\n",
            "#########################\n",
            "[0]\tvalidation_0-mae:0.15418\n",
            "[100]\tvalidation_0-mae:0.13647\n",
            "[200]\tvalidation_0-mae:0.13261\n",
            "[300]\tvalidation_0-mae:0.13080\n",
            "[400]\tvalidation_0-mae:0.12966\n",
            "[500]\tvalidation_0-mae:0.12893\n",
            "[600]\tvalidation_0-mae:0.12841\n",
            "[700]\tvalidation_0-mae:0.12801\n",
            "[800]\tvalidation_0-mae:0.12772\n",
            "[900]\tvalidation_0-mae:0.12747\n",
            "[1000]\tvalidation_0-mae:0.12730\n",
            "[1072]\tvalidation_0-mae:0.12726\n",
            "#########################\n",
            "### Fold 2\n",
            "#########################\n",
            "[0]\tvalidation_0-mae:0.15541\n",
            "[100]\tvalidation_0-mae:0.13775\n",
            "[200]\tvalidation_0-mae:0.13365\n",
            "[300]\tvalidation_0-mae:0.13163\n",
            "[400]\tvalidation_0-mae:0.13041\n",
            "[500]\tvalidation_0-mae:0.12949\n",
            "[600]\tvalidation_0-mae:0.12906\n",
            "[700]\tvalidation_0-mae:0.12864\n",
            "[800]\tvalidation_0-mae:0.12830\n",
            "[900]\tvalidation_0-mae:0.12803\n",
            "[1000]\tvalidation_0-mae:0.12784\n",
            "[1100]\tvalidation_0-mae:0.12764\n",
            "[1200]\tvalidation_0-mae:0.12755\n",
            "[1218]\tvalidation_0-mae:0.12751\n",
            "#########################\n",
            "### Fold 3\n",
            "#########################\n",
            "[0]\tvalidation_0-mae:0.15406\n",
            "[100]\tvalidation_0-mae:0.13619\n",
            "[200]\tvalidation_0-mae:0.13215\n",
            "[300]\tvalidation_0-mae:0.13019\n",
            "[400]\tvalidation_0-mae:0.12895\n",
            "[500]\tvalidation_0-mae:0.12810\n",
            "[600]\tvalidation_0-mae:0.12764\n",
            "[700]\tvalidation_0-mae:0.12721\n",
            "[800]\tvalidation_0-mae:0.12692\n",
            "[900]\tvalidation_0-mae:0.12671\n",
            "[959]\tvalidation_0-mae:0.12660\n",
            "#########################\n",
            "### Fold 4\n",
            "#########################\n",
            "[0]\tvalidation_0-mae:0.15480\n",
            "[100]\tvalidation_0-mae:0.13811\n",
            "[200]\tvalidation_0-mae:0.13433\n",
            "[300]\tvalidation_0-mae:0.13243\n",
            "[400]\tvalidation_0-mae:0.13130\n",
            "[500]\tvalidation_0-mae:0.13053\n",
            "[600]\tvalidation_0-mae:0.12999\n",
            "[700]\tvalidation_0-mae:0.12968\n",
            "[768]\tvalidation_0-mae:0.12953\n",
            "#########################\n",
            "### Fold 5\n",
            "#########################\n",
            "[0]\tvalidation_0-mae:0.15384\n",
            "[100]\tvalidation_0-mae:0.13754\n",
            "[200]\tvalidation_0-mae:0.13354\n",
            "[300]\tvalidation_0-mae:0.13151\n",
            "[400]\tvalidation_0-mae:0.13033\n",
            "[500]\tvalidation_0-mae:0.12956\n",
            "[600]\tvalidation_0-mae:0.12917\n",
            "[700]\tvalidation_0-mae:0.12883\n",
            "[800]\tvalidation_0-mae:0.12852\n",
            "[868]\tvalidation_0-mae:0.12838\n",
            "CPU times: user 1min 56s, sys: 272 ms, total: 1min 56s\n",
            "Wall time: 1min 4s\n"
          ]
        }
      ],
      "execution_count": null
    },
    {
      "cell_type": "code",
      "source": [
        "oof_xgb"
      ],
      "metadata": {
        "trusted": true,
        "execution": {
          "iopub.status.busy": "2025-02-24T07:26:56.332415Z",
          "iopub.execute_input": "2025-02-24T07:26:56.332747Z",
          "iopub.status.idle": "2025-02-24T07:26:56.339028Z",
          "shell.execute_reply.started": "2025-02-24T07:26:56.332720Z",
          "shell.execute_reply": "2025-02-24T07:26:56.338081Z"
        },
        "id": "nup7ryIJyzpM",
        "outputId": "f85441d8-c939-4819-a8c6-2fd2bc9b2ade",
        "colab": {
          "base_uri": "https://localhost:8080/"
        }
      },
      "outputs": [
        {
          "output_type": "execute_result",
          "data": {
            "text/plain": [
              "array([0.46757105, 0.62740701, 0.42234093, ..., 0.66932857, 0.57768393,\n",
              "       0.49191368])"
            ]
          },
          "metadata": {},
          "execution_count": 21
        }
      ],
      "execution_count": null
    },
    {
      "cell_type": "code",
      "source": [
        "pred_xgb"
      ],
      "metadata": {
        "trusted": true,
        "execution": {
          "iopub.status.busy": "2025-02-24T07:26:56.344265Z",
          "iopub.execute_input": "2025-02-24T07:26:56.344639Z",
          "iopub.status.idle": "2025-02-24T07:26:56.355457Z",
          "shell.execute_reply.started": "2025-02-24T07:26:56.344605Z",
          "shell.execute_reply": "2025-02-24T07:26:56.354493Z"
        },
        "id": "XCZHD-gsyzpM",
        "outputId": "0eb0b818-6ea4-4ffb-97de-be2092de093d",
        "colab": {
          "base_uri": "https://localhost:8080/"
        }
      },
      "outputs": [
        {
          "output_type": "execute_result",
          "data": {
            "text/plain": [
              "array([0.48054372, 0.65756028, 0.42846768])"
            ]
          },
          "metadata": {},
          "execution_count": 22
        }
      ],
      "execution_count": null
    },
    {
      "cell_type": "code",
      "source": [
        "bin_pred_np = np.array(bin_pred)\n",
        "oof_xgb_np = np.array(oof_xgb)\n",
        "\n",
        "combined_array = np.column_stack((bin_pred_np, oof_xgb_np))\n",
        "\n",
        "print(combined_array)"
      ],
      "metadata": {
        "trusted": true,
        "execution": {
          "iopub.status.busy": "2025-02-24T07:26:56.357303Z",
          "iopub.execute_input": "2025-02-24T07:26:56.357657Z",
          "iopub.status.idle": "2025-02-24T07:26:56.372771Z",
          "shell.execute_reply.started": "2025-02-24T07:26:56.357624Z",
          "shell.execute_reply": "2025-02-24T07:26:56.371767Z"
        },
        "id": "nohUtatEyzpM",
        "outputId": "8e0114ad-a872-4b72-c828-91a4a725f438",
        "colab": {
          "base_uri": "https://localhost:8080/"
        }
      },
      "outputs": [
        {
          "output_type": "stream",
          "name": "stdout",
          "text": [
            "[[0.         0.46757105]\n",
            " [1.         0.62740701]\n",
            " [0.         0.42234093]\n",
            " ...\n",
            " [1.         0.66932857]\n",
            " [0.         0.57768393]\n",
            " [0.         0.49191368]]\n"
          ]
        }
      ],
      "execution_count": null
    },
    {
      "cell_type": "code",
      "source": [
        "data_0 = combined_array[combined_array[:, 0] == 0]\n",
        "data_1 = combined_array[combined_array[:, 0] == 1]\n",
        "\n",
        "\n",
        "plt.figure(figsize=(10, 6))\n",
        "plt.hist(data_0[:, 1], bins=100, color='blue', alpha=0.6, label='bin_pred = 0')\n",
        "plt.hist(data_1[:, 1], bins=100, color='red', alpha=0.6, label='bin_pred = 1')\n",
        "\n",
        "plt.xlabel('oof_xgb values (Second Column)')\n",
        "plt.ylabel('Density')\n",
        "plt.title('Histogram of oof_xgb values by bin_pred')\n",
        "plt.legend()\n",
        "plt.grid(alpha=0.3)\n",
        "plt.show()"
      ],
      "metadata": {
        "trusted": true,
        "execution": {
          "iopub.status.busy": "2025-02-24T07:26:56.373918Z",
          "iopub.execute_input": "2025-02-24T07:26:56.374253Z",
          "iopub.status.idle": "2025-02-24T07:26:56.950322Z",
          "shell.execute_reply.started": "2025-02-24T07:26:56.374222Z",
          "shell.execute_reply": "2025-02-24T07:26:56.949307Z"
        },
        "id": "cFDO5GD8yzpM",
        "outputId": "b3106950-2279-4d39-fa86-47c8f6970289",
        "colab": {
          "base_uri": "https://localhost:8080/",
          "height": 564
        }
      },
      "outputs": [
        {
          "output_type": "display_data",
          "data": {
            "text/plain": [
              "<Figure size 1000x600 with 1 Axes>"
            ],
            "image/png": "[encoded data removed]"
          },
          "metadata": {}
        }
      ],
      "execution_count": null
    },
    {
      "cell_type": "code",
      "source": [
        "combined_array[combined_array[:, 0] == 1, 1] += 0.1"
      ],
      "metadata": {
        "trusted": true,
        "execution": {
          "iopub.status.busy": "2025-02-24T07:26:56.951346Z",
          "iopub.execute_input": "2025-02-24T07:26:56.951713Z",
          "iopub.status.idle": "2025-02-24T07:26:56.957526Z",
          "shell.execute_reply.started": "2025-02-24T07:26:56.951681Z",
          "shell.execute_reply": "2025-02-24T07:26:56.956522Z"
        },
        "id": "ALOvybaCyzpN"
      },
      "outputs": [],
      "execution_count": null
    },
    {
      "cell_type": "code",
      "source": [
        "data_0 = combined_array[combined_array[:, 0] == 0]\n",
        "data_1 = combined_array[combined_array[:, 0] == 1]\n",
        "\n",
        "plt.figure(figsize=(10, 6))\n",
        "\n",
        "plt.hist(data_0[:, 1], bins=100, color='blue', alpha=0.6, label='bin_pred = 0')\n",
        "\n",
        "plt.hist(data_1[:, 1], bins=100, color='red', alpha=0.6, label='bin_pred = 1')\n",
        "\n",
        "plt.xlabel('oof_xgb values (Second Column)')\n",
        "plt.ylabel('Density')\n",
        "plt.title('Histogram of oof_xgb values by bin_pred')\n",
        "plt.legend()\n",
        "plt.grid(alpha=0.3)\n",
        "plt.show()"
      ],
      "metadata": {
        "trusted": true,
        "execution": {
          "iopub.status.busy": "2025-02-24T07:26:56.958692Z",
          "iopub.execute_input": "2025-02-24T07:26:56.959009Z",
          "iopub.status.idle": "2025-02-24T07:26:57.512415Z",
          "shell.execute_reply.started": "2025-02-24T07:26:56.958979Z",
          "shell.execute_reply": "2025-02-24T07:26:57.511442Z"
        },
        "id": "57TvodCJyzpN",
        "outputId": "34c06729-2313-4049-bfbc-18de881a1003",
        "colab": {
          "base_uri": "https://localhost:8080/",
          "height": 564
        }
      },
      "outputs": [
        {
          "output_type": "display_data",
          "data": {
            "text/plain": [
              "<Figure size 1000x600 with 1 Axes>"
            ],
            "image/png": "[encoded data removed]"
          },
          "metadata": {}
        }
      ],
      "execution_count": null
    },
    {
      "cell_type": "code",
      "source": [
        "y_true = train[[\"ID\",\"efs\",\"efs_time\",\"race_group\"]].copy()\n",
        "y_pred = train[[\"ID\"]].copy()\n",
        "y_pred[\"prediction\"] = combined_array[:, 1]\n",
        "\n",
        "print(y_pred)"
      ],
      "metadata": {
        "trusted": true,
        "execution": {
          "iopub.status.busy": "2025-02-24T07:26:57.513234Z",
          "iopub.execute_input": "2025-02-24T07:26:57.513500Z",
          "iopub.status.idle": "2025-02-24T07:26:57.523609Z",
          "shell.execute_reply.started": "2025-02-24T07:26:57.513478Z",
          "shell.execute_reply": "2025-02-24T07:26:57.522764Z"
        },
        "id": "8gjf4gZ3yzpN",
        "outputId": "996259ca-89ff-48d8-fabc-4b0482e1c866",
        "colab": {
          "base_uri": "https://localhost:8080/"
        }
      },
      "outputs": [
        {
          "output_type": "stream",
          "name": "stdout",
          "text": [
            "          ID  prediction\n",
            "0          0    0.467571\n",
            "1          1    0.727407\n",
            "2          2    0.422341\n",
            "3          3    0.763258\n",
            "4          4    0.720265\n",
            "...      ...         ...\n",
            "28795  28795    0.555905\n",
            "28796  28796    0.826011\n",
            "28797  28797    0.769329\n",
            "28798  28798    0.577684\n",
            "28799  28799    0.491914\n",
            "\n",
            "[28800 rows x 2 columns]\n"
          ]
        }
      ],
      "execution_count": null
    },
    {
      "cell_type": "code",
      "source": [
        "y_pred = (y_pred >= 0.5).astype(int)\n"
      ],
      "metadata": {
        "trusted": true,
        "execution": {
          "iopub.status.busy": "2025-02-24T07:26:57.524417Z",
          "iopub.execute_input": "2025-02-24T07:26:57.524732Z",
          "iopub.status.idle": "2025-02-24T07:26:57.532888Z",
          "shell.execute_reply.started": "2025-02-24T07:26:57.524707Z",
          "shell.execute_reply": "2025-02-24T07:26:57.531955Z"
        },
        "id": "zEacUZZxyzpN"
      },
      "outputs": [],
      "execution_count": null
    },
    {
      "cell_type": "code",
      "source": [
        "\n",
        "y_pred = np.argmax(y_pred, axis=1)\n",
        "y_true = np.argmax(y_true, axis=1)  # If `y_true` is one-hot encoded\n"
      ],
      "metadata": {
        "trusted": true,
        "execution": {
          "iopub.status.busy": "2025-02-24T07:26:57.533888Z",
          "iopub.execute_input": "2025-02-24T07:26:57.534208Z",
          "iopub.status.idle": "2025-02-24T07:26:57.550386Z",
          "shell.execute_reply.started": "2025-02-24T07:26:57.534183Z",
          "shell.execute_reply": "2025-02-24T07:26:57.549328Z"
        },
        "id": "Iy_COGkLyzpN"
      },
      "outputs": [],
      "execution_count": null
    },
    {
      "cell_type": "code",
      "source": [
        "from sklearn.metrics import accuracy_score, f1_score, roc_auc_score\n",
        "\n",
        "def score(y_true, y_pred, metric=\"accuracy\"):\n",
        "    if metric == \"accuracy\":\n",
        "        return accuracy_score(y_true, y_pred)\n",
        "    elif metric == \"f1\":\n",
        "        return f1_score(y_true, y_pred)  # Use f1_score(y_true, y_pred, average='macro') for multiclass\n",
        "    elif metric == \"roc_auc\":\n",
        "        return roc_auc_score(y_true, y_pred)  # Only valid for binary classification\n",
        "    else:\n",
        "        raise ValueError(\"Invalid metric specified\")\n",
        "\n",
        "m = score(y_true.copy(), y_pred.copy(), \"accuracy\")  # Choose \"f1\" or \"roc_auc\" as needed\n",
        "print(f\"\\nOverall CV for XGBoost =\", m)\n"
      ],
      "metadata": {
        "trusted": true,
        "execution": {
          "iopub.status.busy": "2025-02-24T07:26:57.551371Z",
          "iopub.execute_input": "2025-02-24T07:26:57.551695Z",
          "iopub.status.idle": "2025-02-24T07:26:57.561354Z",
          "shell.execute_reply.started": "2025-02-24T07:26:57.551657Z",
          "shell.execute_reply": "2025-02-24T07:26:57.560358Z"
        },
        "id": "m0Yq_yYWyzpO",
        "outputId": "06f962a7-b85f-442a-cbbd-3440d3d372a4",
        "colab": {
          "base_uri": "https://localhost:8080/"
        }
      },
      "outputs": [
        {
          "output_type": "stream",
          "name": "stdout",
          "text": [
            "\n",
            "Overall CV for XGBoost = 0.9991666666666666\n"
          ]
        }
      ],
      "execution_count": null
    },
    {
      "cell_type": "code",
      "source": [
        "\n",
        "from sklearn.metrics import accuracy_score, f1_score, roc_auc_score\n",
        "\n",
        "def score(y_true, y_pred, metric=\"accuracy\"):\n",
        "    if metric == \"accuracy\":\n",
        "        return accuracy_score(y_true, y_pred)\n",
        "    elif metric == \"f1\":\n",
        "        return f1_score(y_true, y_pred)  # Use f1_score(y_true, y_pred, average='macro') for multiclass\n",
        "    elif metric == \"roc_auc\":\n",
        "        return roc_auc_score(y_true, y_pred)  # Only valid for binary classification\n",
        "    else:\n",
        "        raise ValueError(\"Invalid metric specified\")\n",
        "\n",
        "m = score(y_true.copy(), y_pred.copy(), \"accuracy\")  # Choose \"f1\" or \"roc_auc\" as needed\n",
        "print(f\"\\nOverall CV for XGBoost =\", m)\n"
      ],
      "metadata": {
        "trusted": true,
        "execution": {
          "iopub.status.busy": "2025-02-24T07:26:57.562279Z",
          "iopub.execute_input": "2025-02-24T07:26:57.562673Z",
          "iopub.status.idle": "2025-02-24T07:26:57.576847Z",
          "shell.execute_reply.started": "2025-02-24T07:26:57.562637Z",
          "shell.execute_reply": "2025-02-24T07:26:57.575927Z"
        },
        "id": "tXUszucbyzpO",
        "outputId": "d527b9ef-3b14-4768-d2d6-0eee7aea359b",
        "colab": {
          "base_uri": "https://localhost:8080/"
        }
      },
      "outputs": [
        {
          "output_type": "stream",
          "name": "stdout",
          "text": [
            "\n",
            "Overall CV for XGBoost = 0.9991666666666666\n"
          ]
        }
      ],
      "execution_count": null
    },
    {
      "cell_type": "code",
      "source": [
        "\n",
        "# Handling missing values for numerical and categorical features\n",
        "for col in train.columns:\n",
        "    if train[col].dtype == \"object\":  # Categorical columns\n",
        "        train[col].fillna(train[col].mode()[0], inplace=True)\n",
        "        test[col].fillna(test[col].mode()[0], inplace=True)\n",
        "    else:  # Numerical columns\n",
        "        train[col].fillna(train[col].mode(), inplace=True)\n",
        "        test[col].fillna(test[col].mode(), inplace=True)\n",
        "\n",
        "print('Missing values handled for both categorical and numerical features.')"
      ],
      "metadata": {
        "trusted": true,
        "execution": {
          "iopub.status.busy": "2025-02-24T07:26:57.577816Z",
          "iopub.execute_input": "2025-02-24T07:26:57.578107Z",
          "iopub.status.idle": "2025-02-24T07:26:57.806174Z",
          "shell.execute_reply.started": "2025-02-24T07:26:57.578079Z",
          "shell.execute_reply": "2025-02-24T07:26:57.805306Z"
        },
        "id": "btE7fhYKyzpO",
        "outputId": "7c1ed506-4ffc-4196-88a2-fd7ce18eca1f",
        "colab": {
          "base_uri": "https://localhost:8080/"
        }
      },
      "outputs": [
        {
          "output_type": "stream",
          "name": "stdout",
          "text": [
            "Missing values handled for both categorical and numerical features.\n"
          ]
        },
        {
          "output_type": "stream",
          "name": "stderr",
          "text": [
            "<ipython-input-32-52365d7b0240>:7: FutureWarning: A value is trying to be set on a copy of a DataFrame or Series through chained assignment using an inplace method.\n",
            "The behavior will change in pandas 3.0. This inplace method will never work because the intermediate object on which we are setting values always behaves as a copy.\n",
            "\n",
            "For example, when doing 'df[col].method(value, inplace=True)', try using 'df.method({col: value}, inplace=True)' or df[col] = df[col].method(value) instead, to perform the operation inplace on the original object.\n",
            "\n",
            "\n",
            "  train[col].fillna(train[col].mode(), inplace=True)\n",
            "<ipython-input-32-52365d7b0240>:8: FutureWarning: A value is trying to be set on a copy of a DataFrame or Series through chained assignment using an inplace method.\n",
            "The behavior will change in pandas 3.0. This inplace method will never work because the intermediate object on which we are setting values always behaves as a copy.\n",
            "\n",
            "For example, when doing 'df[col].method(value, inplace=True)', try using 'df.method({col: value}, inplace=True)' or df[col] = df[col].method(value) instead, to perform the operation inplace on the original object.\n",
            "\n",
            "\n",
            "  test[col].fillna(test[col].mode(), inplace=True)\n",
            "<ipython-input-32-52365d7b0240>:7: FutureWarning: A value is trying to be set on a copy of a DataFrame or Series through chained assignment using an inplace method.\n",
            "The behavior will change in pandas 3.0. This inplace method will never work because the intermediate object on which we are setting values always behaves as a copy.\n",
            "\n",
            "For example, when doing 'df[col].method(value, inplace=True)', try using 'df.method({col: value}, inplace=True)' or df[col] = df[col].method(value) instead, to perform the operation inplace on the original object.\n",
            "\n",
            "\n",
            "  train[col].fillna(train[col].mode(), inplace=True)\n",
            "<ipython-input-32-52365d7b0240>:7: FutureWarning: A value is trying to be set on a copy of a DataFrame or Series through chained assignment using an inplace method.\n",
            "The behavior will change in pandas 3.0. This inplace method will never work because the intermediate object on which we are setting values always behaves as a copy.\n",
            "\n",
            "For example, when doing 'df[col].method(value, inplace=True)', try using 'df.method({col: value}, inplace=True)' or df[col] = df[col].method(value) instead, to perform the operation inplace on the original object.\n",
            "\n",
            "\n",
            "  train[col].fillna(train[col].mode(), inplace=True)\n",
            "<ipython-input-32-52365d7b0240>:8: FutureWarning: A value is trying to be set on a copy of a DataFrame or Series through chained assignment using an inplace method.\n",
            "The behavior will change in pandas 3.0. This inplace method will never work because the intermediate object on which we are setting values always behaves as a copy.\n",
            "\n",
            "For example, when doing 'df[col].method(value, inplace=True)', try using 'df.method({col: value}, inplace=True)' or df[col] = df[col].method(value) instead, to perform the operation inplace on the original object.\n",
            "\n",
            "\n",
            "  test[col].fillna(test[col].mode(), inplace=True)\n",
            "<ipython-input-32-52365d7b0240>:7: FutureWarning: A value is trying to be set on a copy of a DataFrame or Series through chained assignment using an inplace method.\n",
            "The behavior will change in pandas 3.0. This inplace method will never work because the intermediate object on which we are setting values always behaves as a copy.\n",
            "\n",
            "For example, when doing 'df[col].method(value, inplace=True)', try using 'df.method({col: value}, inplace=True)' or df[col] = df[col].method(value) instead, to perform the operation inplace on the original object.\n",
            "\n",
            "\n",
            "  train[col].fillna(train[col].mode(), inplace=True)\n",
            "<ipython-input-32-52365d7b0240>:7: FutureWarning: A value is trying to be set on a copy of a DataFrame or Series through chained assignment using an inplace method.\n",
            "The behavior will change in pandas 3.0. This inplace method will never work because the intermediate object on which we are setting values always behaves as a copy.\n",
            "\n",
            "For example, when doing 'df[col].method(value, inplace=True)', try using 'df.method({col: value}, inplace=True)' or df[col] = df[col].method(value) instead, to perform the operation inplace on the original object.\n",
            "\n",
            "\n",
            "  train[col].fillna(train[col].mode(), inplace=True)\n",
            "<ipython-input-32-52365d7b0240>:8: FutureWarning: A value is trying to be set on a copy of a DataFrame or Series through chained assignment using an inplace method.\n",
            "The behavior will change in pandas 3.0. This inplace method will never work because the intermediate object on which we are setting values always behaves as a copy.\n",
            "\n",
            "For example, when doing 'df[col].method(value, inplace=True)', try using 'df.method({col: value}, inplace=True)' or df[col] = df[col].method(value) instead, to perform the operation inplace on the original object.\n",
            "\n",
            "\n",
            "  test[col].fillna(test[col].mode(), inplace=True)\n",
            "<ipython-input-32-52365d7b0240>:7: FutureWarning: A value is trying to be set on a copy of a DataFrame or Series through chained assignment using an inplace method.\n",
            "The behavior will change in pandas 3.0. This inplace method will never work because the intermediate object on which we are setting values always behaves as a copy.\n",
            "\n",
            "For example, when doing 'df[col].method(value, inplace=True)', try using 'df.method({col: value}, inplace=True)' or df[col] = df[col].method(value) instead, to perform the operation inplace on the original object.\n",
            "\n",
            "\n",
            "  train[col].fillna(train[col].mode(), inplace=True)\n",
            "<ipython-input-32-52365d7b0240>:7: FutureWarning: A value is trying to be set on a copy of a DataFrame or Series through chained assignment using an inplace method.\n",
            "The behavior will change in pandas 3.0. This inplace method will never work because the intermediate object on which we are setting values always behaves as a copy.\n",
            "\n",
            "For example, when doing 'df[col].method(value, inplace=True)', try using 'df.method({col: value}, inplace=True)' or df[col] = df[col].method(value) instead, to perform the operation inplace on the original object.\n",
            "\n",
            "\n",
            "  train[col].fillna(train[col].mode(), inplace=True)\n",
            "<ipython-input-32-52365d7b0240>:8: FutureWarning: A value is trying to be set on a copy of a DataFrame or Series through chained assignment using an inplace method.\n",
            "The behavior will change in pandas 3.0. This inplace method will never work because the intermediate object on which we are setting values always behaves as a copy.\n",
            "\n",
            "For example, when doing 'df[col].method(value, inplace=True)', try using 'df.method({col: value}, inplace=True)' or df[col] = df[col].method(value) instead, to perform the operation inplace on the original object.\n",
            "\n",
            "\n",
            "  test[col].fillna(test[col].mode(), inplace=True)\n",
            "<ipython-input-32-52365d7b0240>:7: FutureWarning: A value is trying to be set on a copy of a DataFrame or Series through chained assignment using an inplace method.\n",
            "The behavior will change in pandas 3.0. This inplace method will never work because the intermediate object on which we are setting values always behaves as a copy.\n",
            "\n",
            "For example, when doing 'df[col].method(value, inplace=True)', try using 'df.method({col: value}, inplace=True)' or df[col] = df[col].method(value) instead, to perform the operation inplace on the original object.\n",
            "\n",
            "\n",
            "  train[col].fillna(train[col].mode(), inplace=True)\n",
            "<ipython-input-32-52365d7b0240>:8: FutureWarning: A value is trying to be set on a copy of a DataFrame or Series through chained assignment using an inplace method.\n",
            "The behavior will change in pandas 3.0. This inplace method will never work because the intermediate object on which we are setting values always behaves as a copy.\n",
            "\n",
            "For example, when doing 'df[col].method(value, inplace=True)', try using 'df.method({col: value}, inplace=True)' or df[col] = df[col].method(value) instead, to perform the operation inplace on the original object.\n",
            "\n",
            "\n",
            "  test[col].fillna(test[col].mode(), inplace=True)\n",
            "<ipython-input-32-52365d7b0240>:7: FutureWarning: A value is trying to be set on a copy of a DataFrame or Series through chained assignment using an inplace method.\n",
            "The behavior will change in pandas 3.0. This inplace method will never work because the intermediate object on which we are setting values always behaves as a copy.\n",
            "\n",
            "For example, when doing 'df[col].method(value, inplace=True)', try using 'df.method({col: value}, inplace=True)' or df[col] = df[col].method(value) instead, to perform the operation inplace on the original object.\n",
            "\n",
            "\n",
            "  train[col].fillna(train[col].mode(), inplace=True)\n",
            "<ipython-input-32-52365d7b0240>:8: FutureWarning: A value is trying to be set on a copy of a DataFrame or Series through chained assignment using an inplace method.\n",
            "The behavior will change in pandas 3.0. This inplace method will never work because the intermediate object on which we are setting values always behaves as a copy.\n",
            "\n",
            "For example, when doing 'df[col].method(value, inplace=True)', try using 'df.method({col: value}, inplace=True)' or df[col] = df[col].method(value) instead, to perform the operation inplace on the original object.\n",
            "\n",
            "\n",
            "  test[col].fillna(test[col].mode(), inplace=True)\n"
          ]
        }
      ],
      "execution_count": null
    },
    {
      "cell_type": "code",
      "source": [
        "from sklearn.preprocessing import StandardScaler\n",
        "scaler = StandardScaler()\n",
        "train[FEATURES] = scaler.fit_transform(train[FEATURES])\n",
        "test[FEATURES] = scaler.transform(test[FEATURES])\n",
        "print('Feature scaling applied.')"
      ],
      "metadata": {
        "trusted": true,
        "execution": {
          "iopub.status.busy": "2025-02-24T07:26:57.807100Z",
          "iopub.execute_input": "2025-02-24T07:26:57.807338Z",
          "iopub.status.idle": "2025-02-24T07:26:57.974330Z",
          "shell.execute_reply.started": "2025-02-24T07:26:57.807317Z",
          "shell.execute_reply": "2025-02-24T07:26:57.973443Z"
        },
        "id": "hIDg7DPSyzpO",
        "outputId": "b281c6c0-4e6e-48bd-8184-d5d41793440f",
        "colab": {
          "base_uri": "https://localhost:8080/"
        }
      },
      "outputs": [
        {
          "output_type": "stream",
          "name": "stdout",
          "text": [
            "Feature scaling applied.\n"
          ]
        }
      ],
      "execution_count": null
    },
    {
      "cell_type": "code",
      "source": [
        "train['log_efs_time'] = np.log1p(train['efs_time'])\n",
        "test['log_efs_time'] = np.log1p(test['efs_time'])\n",
        "print('Log transformation applied to efs_time.')"
      ],
      "metadata": {
        "trusted": true,
        "execution": {
          "iopub.status.busy": "2025-02-24T07:26:57.975128Z",
          "iopub.execute_input": "2025-02-24T07:26:57.975381Z",
          "iopub.status.idle": "2025-02-24T07:26:57.982525Z",
          "shell.execute_reply.started": "2025-02-24T07:26:57.975359Z",
          "shell.execute_reply": "2025-02-24T07:26:57.981619Z"
        },
        "id": "N33GoJCFyzpP",
        "outputId": "16f247d7-3378-4205-cc5a-de470827c7c5",
        "colab": {
          "base_uri": "https://localhost:8080/"
        }
      },
      "outputs": [
        {
          "output_type": "stream",
          "name": "stdout",
          "text": [
            "Log transformation applied to efs_time.\n"
          ]
        }
      ],
      "execution_count": null
    },
    {
      "cell_type": "code",
      "source": [
        "import pandas as pd\n",
        "import warnings\n",
        "from sklearn.ensemble import RandomForestClassifier\n",
        "from sklearn.model_selection import train_test_split\n",
        "from sklearn.impute import SimpleImputer\n",
        "from sklearn.preprocessing import LabelEncoder\n",
        "\n",
        "# Ignore warnings\n",
        "warnings.filterwarnings(\"ignore\")\n",
        "\n",
        "# Load the dataset\n",
        "train_file_path = \"/content/train.csv\"\n",
        "train = pd.read_csv(train_file_path)\n",
        "\n",
        "# Define features and target\n",
        "FEATURES = [col for col in train.columns if col not in ['efs', 'efs_time', 'ID']]\n",
        "TARGET = 'efs'\n",
        "\n",
        "# Separate features and target variable\n",
        "X = train[FEATURES]\n",
        "y = train[TARGET]\n",
        "\n",
        "# Handle missing values\n",
        "num_imputer = SimpleImputer(strategy='mean')  # Mean for numerical columns\n",
        "cat_imputer = SimpleImputer(strategy='most_frequent')  # Mode for categorical columns\n",
        "\n",
        "# Separate numerical and categorical features\n",
        "num_cols = X.select_dtypes(include=['number']).columns\n",
        "cat_cols = X.select_dtypes(exclude=['number']).columns\n",
        "\n",
        "# Impute missing values\n",
        "X[num_cols] = num_imputer.fit_transform(X[num_cols])\n",
        "X[cat_cols] = cat_imputer.fit_transform(X[cat_cols])\n",
        "\n",
        "# Encode categorical variables\n",
        "label_encoders = {}\n",
        "for col in cat_cols:\n",
        "    le = LabelEncoder()\n",
        "    X[col] = le.fit_transform(X[col])\n",
        "    label_encoders[col] = le\n",
        "\n",
        "# Split data into training and validation sets\n",
        "X_train, X_val, y_train, y_val = train_test_split(X, y, test_size=0.2, random_state=42)\n",
        "\n",
        "# Train the model\n",
        "model = RandomForestClassifier(n_estimators=100, random_state=42)\n",
        "model.fit(X_train, y_train)\n",
        "\n",
        "print('Random Forest Model Trained Successfully!')\n"
      ],
      "metadata": {
        "trusted": true,
        "execution": {
          "iopub.status.busy": "2025-02-24T07:26:57.983368Z",
          "iopub.execute_input": "2025-02-24T07:26:57.983660Z",
          "iopub.status.idle": "2025-02-24T07:27:02.998309Z",
          "shell.execute_reply.started": "2025-02-24T07:26:57.983628Z",
          "shell.execute_reply": "2025-02-24T07:27:02.997298Z"
        },
        "id": "mo_Lsjc_yzpP",
        "outputId": "6a23686e-2976-4557-d867-65e3b470acd8",
        "colab": {
          "base_uri": "https://localhost:8080/"
        }
      },
      "outputs": [
        {
          "output_type": "stream",
          "name": "stdout",
          "text": [
            "Random Forest Model Trained Successfully!\n"
          ]
        }
      ],
      "execution_count": null
    },
    {
      "cell_type": "code",
      "source": [
        "from sklearn.metrics import accuracy_score, roc_auc_score\n",
        "y_pred = model.predict(X_val)\n",
        "y_proba = model.predict_proba(X_val)[:, 1]\n",
        "print(f'Accuracy: {accuracy_score(y_val, y_pred):.4f}')\n",
        "print(f'AUC-ROC: {roc_auc_score(y_val, y_proba):.4f}')"
      ],
      "metadata": {
        "trusted": true,
        "execution": {
          "iopub.status.busy": "2025-02-24T07:27:02.999303Z",
          "iopub.execute_input": "2025-02-24T07:27:02.999622Z",
          "iopub.status.idle": "2025-02-24T07:27:03.376828Z",
          "shell.execute_reply.started": "2025-02-24T07:27:02.999595Z",
          "shell.execute_reply": "2025-02-24T07:27:03.375813Z"
        },
        "id": "TV0HIq8_yzpP",
        "outputId": "1984f9e2-8fee-4cce-f6a2-deb83e3f447d",
        "colab": {
          "base_uri": "https://localhost:8080/"
        }
      },
      "outputs": [
        {
          "output_type": "stream",
          "name": "stdout",
          "text": [
            "Accuracy: 0.6646\n",
            "AUC-ROC: 0.7232\n"
          ]
        }
      ],
      "execution_count": null
    },
    {
      "cell_type": "code",
      "source": [
        "from sklearn.model_selection import GridSearchCV\n",
        "param_grid = {'n_estimators': [50, 100, 200], 'max_depth': [5, 10, None]}\n",
        "grid_search = GridSearchCV(RandomForestClassifier(), param_grid, cv=3, scoring='roc_auc')\n",
        "grid_search.fit(X_train, y_train)\n",
        "print(f'Best Parameters: {grid_search.best_params_}')\n",
        "print(f'Best AUC-ROC: {grid_search.best_score_:.4f}')"
      ],
      "metadata": {
        "trusted": true,
        "execution": {
          "iopub.status.busy": "2025-02-24T07:30:39.896808Z",
          "iopub.execute_input": "2025-02-24T07:30:39.897163Z",
          "iopub.status.idle": "2025-02-24T07:31:44.541872Z",
          "shell.execute_reply.started": "2025-02-24T07:30:39.897137Z",
          "shell.execute_reply": "2025-02-24T07:31:44.540935Z"
        },
        "id": "29eMSNzbyzpQ",
        "outputId": "7d61a469-a8c1-47b6-d8da-ae1241afabcc",
        "colab": {
          "base_uri": "https://localhost:8080/"
        }
      },
      "outputs": [
        {
          "output_type": "stream",
          "name": "stdout",
          "text": [
            "Best Parameters: {'max_depth': 10, 'n_estimators': 200}\n",
            "Best AUC-ROC: 0.7244\n"
          ]
        }
      ],
      "execution_count": null
    },
    {
      "cell_type": "code",
      "source": [
        "import joblib\n",
        "from sklearn.ensemble import RandomForestClassifier\n",
        "from sklearn.model_selection import GridSearchCV\n",
        "\n",
        "# Hyperparameter tuning using GridSearchCV\n",
        "param_grid = {'n_estimators': [50, 100, 200], 'max_depth': [5, 10, None]}\n",
        "grid_search = GridSearchCV(RandomForestClassifier(), param_grid, cv=3, scoring='roc_auc')\n",
        "grid_search.fit(X_train, y_train)\n",
        "\n",
        "# Best model\n",
        "best_model = grid_search.best_estimator_\n",
        "print(f'Best Parameters: {grid_search.best_params_}')\n",
        "print(f'Best AUC-ROC: {grid_search.best_score_:.4f}')\n",
        "\n",
        "# Save the trained model\n",
        "joblib.dump(best_model, 'random_forest_model.pkl')\n",
        "print('Model saved as random_forest_model.pkl')\n"
      ],
      "metadata": {
        "trusted": true,
        "execution": {
          "iopub.status.busy": "2025-02-24T07:31:44.542927Z",
          "iopub.execute_input": "2025-02-24T07:31:44.543220Z",
          "iopub.status.idle": "2025-02-24T07:32:49.110174Z",
          "shell.execute_reply.started": "2025-02-24T07:31:44.543187Z",
          "shell.execute_reply": "2025-02-24T07:32:49.109061Z"
        },
        "id": "H8y1BLY-yzpQ",
        "outputId": "970e854e-efe0-45f9-b2c6-c625cd6f84a1",
        "colab": {
          "base_uri": "https://localhost:8080/"
        }
      },
      "outputs": [
        {
          "output_type": "stream",
          "name": "stdout",
          "text": [
            "Best Parameters: {'max_depth': 10, 'n_estimators': 100}\n",
            "Best AUC-ROC: 0.7242\n",
            "Model saved as random_forest_model.pkl\n"
          ]
        }
      ],
      "execution_count": null
    },
    {
      "cell_type": "code",
      "source": [
        "from sklearn.metrics import confusion_matrix\n",
        "import seaborn as sns\n",
        "import matplotlib.pyplot as plt\n",
        "\n",
        "# Compute confusion matrix\n",
        "cm = confusion_matrix(y_val, y_pred)\n",
        "\n",
        "# Plot confusion matrix\n",
        "plt.figure(figsize=(6, 5))\n",
        "sns.heatmap(cm, annot=True, fmt=\"d\", cmap=\"Blues\", xticklabels=[\"Pred 0\", \"Pred 1\"], yticklabels=[\"True 0\", \"True 1\"])\n",
        "plt.xlabel(\"Predicted Label\")\n",
        "plt.ylabel(\"True Label\")\n",
        "plt.title(\"Confusion Matrix\")\n",
        "plt.show()"
      ],
      "metadata": {
        "trusted": true,
        "colab": {
          "base_uri": "https://localhost:8080/",
          "height": 487
        },
        "id": "Uiq0Zi09yzpR",
        "outputId": "98e91186-66d1-4326-9880-78989f2d679b"
      },
      "outputs": [
        {
          "output_type": "display_data",
          "data": {
            "text/plain": [
              "<Figure size 600x500 with 2 Axes>"
            ],
            "image/png": "[encoded data removed]"
          },
          "metadata": {}
        }
      ],
      "execution_count": null
    },
    {
      "cell_type": "code",
      "source": [],
      "metadata": {
        "id": "5PHCfz99y2Tg"
      },
      "execution_count": null,
      "outputs": []
    }
  ]
}